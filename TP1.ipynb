{
  "cells": [
    {
      "cell_type": "markdown",
      "metadata": {
        "id": "O_JufqPOWxT7"
      },
      "source": [
        "TP1 - Algoritmos 2 Geometria computacional\n",
        "\n",
        "#Triangulação , Corte de orelhas e Coloração de polígonos\n"
      ]
    },
    {
      "cell_type": "markdown",
      "metadata": {
        "id": "iRkmNWdrANEF"
      },
      "source": [
        "#Imports"
      ]
    },
    {
      "cell_type": "code",
      "execution_count": 1,
      "metadata": {
        "id": "YHs5muuEVhGB"
      },
      "outputs": [],
      "source": [
        "import fractions\n",
        "import plotly\n",
        "import plotly.graph_objects as go\n",
        "from plotly.subplots import make_subplots\n",
        "import numpy as np\n",
        "import networkx as nx\n",
        "import matplotlib.pyplot as plt\n",
        "import os\n",
        "import ipywidgets as widgets\n",
        "from IPython.display import display, Image, clear_output\n",
        "import imageio.v2 as imageio  # Importar a versão 2 explicitamente\n",
        "import tempfile\n",
        "import time"
      ]
    },
    {
      "cell_type": "markdown",
      "metadata": {
        "id": "4_imbmdaBulK"
      },
      "source": [
        "#Insira aqui o arquivo que contenha o polígono"
      ]
    },
    {
      "cell_type": "code",
      "execution_count": 2,
      "metadata": {
        "colab": {
          "base_uri": "https://localhost:8080/"
        },
        "id": "ELSRzltCA2VE",
        "outputId": "3da1fd1c-073b-4511-d761-b56a224d7ae3"
      },
      "outputs": [],
      "source": [
        "caminho_arquivo = input()"
      ]
    },
    {
      "cell_type": "markdown",
      "metadata": {
        "id": "DrSWn6N64z1B"
      },
      "source": [
        "# Carregamento e Leitura do arquivo do polígono\n"
      ]
    },
    {
      "cell_type": "markdown",
      "metadata": {
        "id": "YZj73m_LY2bq"
      },
      "source": [
        "A função `Ler_poligono_de_arquivo`  lê as coordenadas dos vértices de um polígono a partir de um arquivo de texto. O arquivo contém uma linha com o número de vértices seguido das coordenadas x e y de cada vértice, separadas por espaços. A função converte as coordenadas de frações para floats e retorna uma lista de tuplas, onde cada tupla representa um vértice do polígono."
      ]
    },
    {
      "cell_type": "code",
      "execution_count": 3,
      "metadata": {
        "id": "ODRZLpPpUM1M"
      },
      "outputs": [],
      "source": [
        "def Ler_poligono_de_arquivo(diretorio_arquivo):\n",
        "    with open(diretorio_arquivo, 'r') as arquivo:\n",
        "        linha = arquivo.readline().strip().split()\n",
        "        num_vertices = int(linha[0])\n",
        "        poligono = [(float(fractions.Fraction(linha[i])), float(fractions.Fraction(linha[i + 1]))) for i in range(1, len(linha), 2)]\n",
        "\n",
        "    return  poligono"
      ]
    },
    {
      "cell_type": "code",
      "execution_count": 4,
      "metadata": {
        "id": "9nF5tbU0V0zt"
      },
      "outputs": [],
      "source": [
        "poligono = Ler_poligono_de_arquivo(caminho_arquivo)\n",
        "poligono_original =  Ler_poligono_de_arquivo(caminho_arquivo)"
      ]
    },
    {
      "cell_type": "markdown",
      "metadata": {
        "id": "ckBOqXrnAiFf"
      },
      "source": [
        "#Visualização do polígono recebido"
      ]
    },
    {
      "cell_type": "code",
      "execution_count": 5,
      "metadata": {
        "colab": {
          "base_uri": "https://localhost:8080/",
          "height": 542
        },
        "id": "Q_pPsK2XV9_O",
        "outputId": "68fec3e9-e38b-477d-d6b7-2cdd15f2d4bb"
      },
      "outputs": [
        {
          "data": {
            "application/vnd.plotly.v1+json": {
              "config": {
                "plotlyServerURL": "https://plot.ly"
              },
              "data": [
                {
                  "fill": "toself",
                  "type": "scatter",
                  "x": [
                    1,
                    2,
                    2,
                    4,
                    4,
                    5,
                    5,
                    3,
                    3,
                    1,
                    1
                  ],
                  "y": [
                    1,
                    1,
                    2,
                    2,
                    4,
                    4,
                    5,
                    5,
                    3,
                    3,
                    1
                  ]
                }
              ],
              "layout": {
                "template": {
                  "data": {
                    "bar": [
                      {
                        "error_x": {
                          "color": "#2a3f5f"
                        },
                        "error_y": {
                          "color": "#2a3f5f"
                        },
                        "marker": {
                          "line": {
                            "color": "white",
                            "width": 0.5
                          },
                          "pattern": {
                            "fillmode": "overlay",
                            "size": 10,
                            "solidity": 0.2
                          }
                        },
                        "type": "bar"
                      }
                    ],
                    "barpolar": [
                      {
                        "marker": {
                          "line": {
                            "color": "white",
                            "width": 0.5
                          },
                          "pattern": {
                            "fillmode": "overlay",
                            "size": 10,
                            "solidity": 0.2
                          }
                        },
                        "type": "barpolar"
                      }
                    ],
                    "carpet": [
                      {
                        "aaxis": {
                          "endlinecolor": "#2a3f5f",
                          "gridcolor": "#C8D4E3",
                          "linecolor": "#C8D4E3",
                          "minorgridcolor": "#C8D4E3",
                          "startlinecolor": "#2a3f5f"
                        },
                        "baxis": {
                          "endlinecolor": "#2a3f5f",
                          "gridcolor": "#C8D4E3",
                          "linecolor": "#C8D4E3",
                          "minorgridcolor": "#C8D4E3",
                          "startlinecolor": "#2a3f5f"
                        },
                        "type": "carpet"
                      }
                    ],
                    "choropleth": [
                      {
                        "colorbar": {
                          "outlinewidth": 0,
                          "ticks": ""
                        },
                        "type": "choropleth"
                      }
                    ],
                    "contour": [
                      {
                        "colorbar": {
                          "outlinewidth": 0,
                          "ticks": ""
                        },
                        "colorscale": [
                          [
                            0,
                            "#0d0887"
                          ],
                          [
                            0.1111111111111111,
                            "#46039f"
                          ],
                          [
                            0.2222222222222222,
                            "#7201a8"
                          ],
                          [
                            0.3333333333333333,
                            "#9c179e"
                          ],
                          [
                            0.4444444444444444,
                            "#bd3786"
                          ],
                          [
                            0.5555555555555556,
                            "#d8576b"
                          ],
                          [
                            0.6666666666666666,
                            "#ed7953"
                          ],
                          [
                            0.7777777777777778,
                            "#fb9f3a"
                          ],
                          [
                            0.8888888888888888,
                            "#fdca26"
                          ],
                          [
                            1,
                            "#f0f921"
                          ]
                        ],
                        "type": "contour"
                      }
                    ],
                    "contourcarpet": [
                      {
                        "colorbar": {
                          "outlinewidth": 0,
                          "ticks": ""
                        },
                        "type": "contourcarpet"
                      }
                    ],
                    "heatmap": [
                      {
                        "colorbar": {
                          "outlinewidth": 0,
                          "ticks": ""
                        },
                        "colorscale": [
                          [
                            0,
                            "#0d0887"
                          ],
                          [
                            0.1111111111111111,
                            "#46039f"
                          ],
                          [
                            0.2222222222222222,
                            "#7201a8"
                          ],
                          [
                            0.3333333333333333,
                            "#9c179e"
                          ],
                          [
                            0.4444444444444444,
                            "#bd3786"
                          ],
                          [
                            0.5555555555555556,
                            "#d8576b"
                          ],
                          [
                            0.6666666666666666,
                            "#ed7953"
                          ],
                          [
                            0.7777777777777778,
                            "#fb9f3a"
                          ],
                          [
                            0.8888888888888888,
                            "#fdca26"
                          ],
                          [
                            1,
                            "#f0f921"
                          ]
                        ],
                        "type": "heatmap"
                      }
                    ],
                    "heatmapgl": [
                      {
                        "colorbar": {
                          "outlinewidth": 0,
                          "ticks": ""
                        },
                        "colorscale": [
                          [
                            0,
                            "#0d0887"
                          ],
                          [
                            0.1111111111111111,
                            "#46039f"
                          ],
                          [
                            0.2222222222222222,
                            "#7201a8"
                          ],
                          [
                            0.3333333333333333,
                            "#9c179e"
                          ],
                          [
                            0.4444444444444444,
                            "#bd3786"
                          ],
                          [
                            0.5555555555555556,
                            "#d8576b"
                          ],
                          [
                            0.6666666666666666,
                            "#ed7953"
                          ],
                          [
                            0.7777777777777778,
                            "#fb9f3a"
                          ],
                          [
                            0.8888888888888888,
                            "#fdca26"
                          ],
                          [
                            1,
                            "#f0f921"
                          ]
                        ],
                        "type": "heatmapgl"
                      }
                    ],
                    "histogram": [
                      {
                        "marker": {
                          "pattern": {
                            "fillmode": "overlay",
                            "size": 10,
                            "solidity": 0.2
                          }
                        },
                        "type": "histogram"
                      }
                    ],
                    "histogram2d": [
                      {
                        "colorbar": {
                          "outlinewidth": 0,
                          "ticks": ""
                        },
                        "colorscale": [
                          [
                            0,
                            "#0d0887"
                          ],
                          [
                            0.1111111111111111,
                            "#46039f"
                          ],
                          [
                            0.2222222222222222,
                            "#7201a8"
                          ],
                          [
                            0.3333333333333333,
                            "#9c179e"
                          ],
                          [
                            0.4444444444444444,
                            "#bd3786"
                          ],
                          [
                            0.5555555555555556,
                            "#d8576b"
                          ],
                          [
                            0.6666666666666666,
                            "#ed7953"
                          ],
                          [
                            0.7777777777777778,
                            "#fb9f3a"
                          ],
                          [
                            0.8888888888888888,
                            "#fdca26"
                          ],
                          [
                            1,
                            "#f0f921"
                          ]
                        ],
                        "type": "histogram2d"
                      }
                    ],
                    "histogram2dcontour": [
                      {
                        "colorbar": {
                          "outlinewidth": 0,
                          "ticks": ""
                        },
                        "colorscale": [
                          [
                            0,
                            "#0d0887"
                          ],
                          [
                            0.1111111111111111,
                            "#46039f"
                          ],
                          [
                            0.2222222222222222,
                            "#7201a8"
                          ],
                          [
                            0.3333333333333333,
                            "#9c179e"
                          ],
                          [
                            0.4444444444444444,
                            "#bd3786"
                          ],
                          [
                            0.5555555555555556,
                            "#d8576b"
                          ],
                          [
                            0.6666666666666666,
                            "#ed7953"
                          ],
                          [
                            0.7777777777777778,
                            "#fb9f3a"
                          ],
                          [
                            0.8888888888888888,
                            "#fdca26"
                          ],
                          [
                            1,
                            "#f0f921"
                          ]
                        ],
                        "type": "histogram2dcontour"
                      }
                    ],
                    "mesh3d": [
                      {
                        "colorbar": {
                          "outlinewidth": 0,
                          "ticks": ""
                        },
                        "type": "mesh3d"
                      }
                    ],
                    "parcoords": [
                      {
                        "line": {
                          "colorbar": {
                            "outlinewidth": 0,
                            "ticks": ""
                          }
                        },
                        "type": "parcoords"
                      }
                    ],
                    "pie": [
                      {
                        "automargin": true,
                        "type": "pie"
                      }
                    ],
                    "scatter": [
                      {
                        "fillpattern": {
                          "fillmode": "overlay",
                          "size": 10,
                          "solidity": 0.2
                        },
                        "type": "scatter"
                      }
                    ],
                    "scatter3d": [
                      {
                        "line": {
                          "colorbar": {
                            "outlinewidth": 0,
                            "ticks": ""
                          }
                        },
                        "marker": {
                          "colorbar": {
                            "outlinewidth": 0,
                            "ticks": ""
                          }
                        },
                        "type": "scatter3d"
                      }
                    ],
                    "scattercarpet": [
                      {
                        "marker": {
                          "colorbar": {
                            "outlinewidth": 0,
                            "ticks": ""
                          }
                        },
                        "type": "scattercarpet"
                      }
                    ],
                    "scattergeo": [
                      {
                        "marker": {
                          "colorbar": {
                            "outlinewidth": 0,
                            "ticks": ""
                          }
                        },
                        "type": "scattergeo"
                      }
                    ],
                    "scattergl": [
                      {
                        "marker": {
                          "colorbar": {
                            "outlinewidth": 0,
                            "ticks": ""
                          }
                        },
                        "type": "scattergl"
                      }
                    ],
                    "scattermapbox": [
                      {
                        "marker": {
                          "colorbar": {
                            "outlinewidth": 0,
                            "ticks": ""
                          }
                        },
                        "type": "scattermapbox"
                      }
                    ],
                    "scatterpolar": [
                      {
                        "marker": {
                          "colorbar": {
                            "outlinewidth": 0,
                            "ticks": ""
                          }
                        },
                        "type": "scatterpolar"
                      }
                    ],
                    "scatterpolargl": [
                      {
                        "marker": {
                          "colorbar": {
                            "outlinewidth": 0,
                            "ticks": ""
                          }
                        },
                        "type": "scatterpolargl"
                      }
                    ],
                    "scatterternary": [
                      {
                        "marker": {
                          "colorbar": {
                            "outlinewidth": 0,
                            "ticks": ""
                          }
                        },
                        "type": "scatterternary"
                      }
                    ],
                    "surface": [
                      {
                        "colorbar": {
                          "outlinewidth": 0,
                          "ticks": ""
                        },
                        "colorscale": [
                          [
                            0,
                            "#0d0887"
                          ],
                          [
                            0.1111111111111111,
                            "#46039f"
                          ],
                          [
                            0.2222222222222222,
                            "#7201a8"
                          ],
                          [
                            0.3333333333333333,
                            "#9c179e"
                          ],
                          [
                            0.4444444444444444,
                            "#bd3786"
                          ],
                          [
                            0.5555555555555556,
                            "#d8576b"
                          ],
                          [
                            0.6666666666666666,
                            "#ed7953"
                          ],
                          [
                            0.7777777777777778,
                            "#fb9f3a"
                          ],
                          [
                            0.8888888888888888,
                            "#fdca26"
                          ],
                          [
                            1,
                            "#f0f921"
                          ]
                        ],
                        "type": "surface"
                      }
                    ],
                    "table": [
                      {
                        "cells": {
                          "fill": {
                            "color": "#EBF0F8"
                          },
                          "line": {
                            "color": "white"
                          }
                        },
                        "header": {
                          "fill": {
                            "color": "#C8D4E3"
                          },
                          "line": {
                            "color": "white"
                          }
                        },
                        "type": "table"
                      }
                    ]
                  },
                  "layout": {
                    "annotationdefaults": {
                      "arrowcolor": "#2a3f5f",
                      "arrowhead": 0,
                      "arrowwidth": 1
                    },
                    "autotypenumbers": "strict",
                    "coloraxis": {
                      "colorbar": {
                        "outlinewidth": 0,
                        "ticks": ""
                      }
                    },
                    "colorscale": {
                      "diverging": [
                        [
                          0,
                          "#8e0152"
                        ],
                        [
                          0.1,
                          "#c51b7d"
                        ],
                        [
                          0.2,
                          "#de77ae"
                        ],
                        [
                          0.3,
                          "#f1b6da"
                        ],
                        [
                          0.4,
                          "#fde0ef"
                        ],
                        [
                          0.5,
                          "#f7f7f7"
                        ],
                        [
                          0.6,
                          "#e6f5d0"
                        ],
                        [
                          0.7,
                          "#b8e186"
                        ],
                        [
                          0.8,
                          "#7fbc41"
                        ],
                        [
                          0.9,
                          "#4d9221"
                        ],
                        [
                          1,
                          "#276419"
                        ]
                      ],
                      "sequential": [
                        [
                          0,
                          "#0d0887"
                        ],
                        [
                          0.1111111111111111,
                          "#46039f"
                        ],
                        [
                          0.2222222222222222,
                          "#7201a8"
                        ],
                        [
                          0.3333333333333333,
                          "#9c179e"
                        ],
                        [
                          0.4444444444444444,
                          "#bd3786"
                        ],
                        [
                          0.5555555555555556,
                          "#d8576b"
                        ],
                        [
                          0.6666666666666666,
                          "#ed7953"
                        ],
                        [
                          0.7777777777777778,
                          "#fb9f3a"
                        ],
                        [
                          0.8888888888888888,
                          "#fdca26"
                        ],
                        [
                          1,
                          "#f0f921"
                        ]
                      ],
                      "sequentialminus": [
                        [
                          0,
                          "#0d0887"
                        ],
                        [
                          0.1111111111111111,
                          "#46039f"
                        ],
                        [
                          0.2222222222222222,
                          "#7201a8"
                        ],
                        [
                          0.3333333333333333,
                          "#9c179e"
                        ],
                        [
                          0.4444444444444444,
                          "#bd3786"
                        ],
                        [
                          0.5555555555555556,
                          "#d8576b"
                        ],
                        [
                          0.6666666666666666,
                          "#ed7953"
                        ],
                        [
                          0.7777777777777778,
                          "#fb9f3a"
                        ],
                        [
                          0.8888888888888888,
                          "#fdca26"
                        ],
                        [
                          1,
                          "#f0f921"
                        ]
                      ]
                    },
                    "colorway": [
                      "#636efa",
                      "#EF553B",
                      "#00cc96",
                      "#ab63fa",
                      "#FFA15A",
                      "#19d3f3",
                      "#FF6692",
                      "#B6E880",
                      "#FF97FF",
                      "#FECB52"
                    ],
                    "font": {
                      "color": "#2a3f5f"
                    },
                    "geo": {
                      "bgcolor": "white",
                      "lakecolor": "white",
                      "landcolor": "white",
                      "showlakes": true,
                      "showland": true,
                      "subunitcolor": "#C8D4E3"
                    },
                    "hoverlabel": {
                      "align": "left"
                    },
                    "hovermode": "closest",
                    "mapbox": {
                      "style": "light"
                    },
                    "paper_bgcolor": "white",
                    "plot_bgcolor": "white",
                    "polar": {
                      "angularaxis": {
                        "gridcolor": "#EBF0F8",
                        "linecolor": "#EBF0F8",
                        "ticks": ""
                      },
                      "bgcolor": "white",
                      "radialaxis": {
                        "gridcolor": "#EBF0F8",
                        "linecolor": "#EBF0F8",
                        "ticks": ""
                      }
                    },
                    "scene": {
                      "xaxis": {
                        "backgroundcolor": "white",
                        "gridcolor": "#DFE8F3",
                        "gridwidth": 2,
                        "linecolor": "#EBF0F8",
                        "showbackground": true,
                        "ticks": "",
                        "zerolinecolor": "#EBF0F8"
                      },
                      "yaxis": {
                        "backgroundcolor": "white",
                        "gridcolor": "#DFE8F3",
                        "gridwidth": 2,
                        "linecolor": "#EBF0F8",
                        "showbackground": true,
                        "ticks": "",
                        "zerolinecolor": "#EBF0F8"
                      },
                      "zaxis": {
                        "backgroundcolor": "white",
                        "gridcolor": "#DFE8F3",
                        "gridwidth": 2,
                        "linecolor": "#EBF0F8",
                        "showbackground": true,
                        "ticks": "",
                        "zerolinecolor": "#EBF0F8"
                      }
                    },
                    "shapedefaults": {
                      "line": {
                        "color": "#2a3f5f"
                      }
                    },
                    "ternary": {
                      "aaxis": {
                        "gridcolor": "#DFE8F3",
                        "linecolor": "#A2B1C6",
                        "ticks": ""
                      },
                      "baxis": {
                        "gridcolor": "#DFE8F3",
                        "linecolor": "#A2B1C6",
                        "ticks": ""
                      },
                      "bgcolor": "white",
                      "caxis": {
                        "gridcolor": "#DFE8F3",
                        "linecolor": "#A2B1C6",
                        "ticks": ""
                      }
                    },
                    "title": {
                      "x": 0.05
                    },
                    "xaxis": {
                      "automargin": true,
                      "gridcolor": "#EBF0F8",
                      "linecolor": "#EBF0F8",
                      "ticks": "",
                      "title": {
                        "standoff": 15
                      },
                      "zerolinecolor": "#EBF0F8",
                      "zerolinewidth": 2
                    },
                    "yaxis": {
                      "automargin": true,
                      "gridcolor": "#EBF0F8",
                      "linecolor": "#EBF0F8",
                      "ticks": "",
                      "title": {
                        "standoff": 15
                      },
                      "zerolinecolor": "#EBF0F8",
                      "zerolinewidth": 2
                    }
                  }
                },
                "title": {
                  "text": "Polígono"
                },
                "xaxis": {
                  "showgrid": false
                },
                "yaxis": {
                  "showgrid": false
                }
              }
            }
          },
          "metadata": {},
          "output_type": "display_data"
        }
      ],
      "source": [
        "x_coords, y_coords = zip(*poligono)\n",
        "\n",
        "# Crie a figura\n",
        "fig = go.Figure()\n",
        "\n",
        "# Adicione o polígono\n",
        "fig.add_trace(go.Scatter(x=[x for x in x_coords]+[x_coords[0]], y=[y for y in y_coords]+[x_coords[0]], fill='toself'))\n",
        "\n",
        "# Adicione um título e exiba o gráfico\n",
        "fig.update_layout(title='Polígono', template='plotly_white', xaxis=dict(showgrid=False), yaxis=dict(showgrid=False))\n",
        "fig.show()"
      ]
    },
    {
      "cell_type": "markdown",
      "metadata": {
        "id": "WIwRYtMp7JE_"
      },
      "source": [
        "#Implementação da Triangulação pelo algoritmo Ear Clipping\n"
      ]
    },
    {
      "cell_type": "markdown",
      "metadata": {
        "id": "hXbf3Ea1Zl4Y"
      },
      "source": [
        "A função E_orelha verifica se um vértice do polígono forma uma \"orelha\".\n",
        "\n",
        "Verificação de Ângulo: Calcula o produto vetorial dos vetores formados pelos vértices adjacentes para determinar se o ângulo é convexo (positivo) ou côncavo (negativo).\n",
        "\n",
        "Verificação de Vértices Internos: Verifica se algum outro vértice do polígono está dentro do triângulo formado pelo vértice atual e seus vizinhos. Se algum vértice estiver dentro do triângulo, o vértice atual não é uma orelha.\n",
        "\n",
        "Retorno: Se o ângulo é convexo e não há vértices internos, retorna True, indicando que o vértice é uma orelha."
      ]
    },
    {
      "cell_type": "code",
      "execution_count": 6,
      "metadata": {
        "id": "22lfQKybsLhe"
      },
      "outputs": [],
      "source": [
        "def E_orelha(poligono, i):\n",
        "    n = len(poligono)\n",
        "    vertice_anterior = poligono[(i-1) % n]\n",
        "    vertice_atual = poligono[i]\n",
        "    vertice_seguinte = poligono[(i+1) % n]\n",
        "    # Verifica se o ângulo no vértice atual é concâvo\n",
        "    produto_vetorial = (vertice_atual[0] - vertice_anterior[0]) * (vertice_seguinte[1] - vertice_atual[1]) \\\n",
        "                       - (vertice_atual[1] - vertice_anterior[1]) * (vertice_seguinte[0] - vertice_atual[0])\n",
        "    if produto_vetorial < 0:\n",
        "        return False\n",
        "\n",
        "    # Verifica se não há nenhum vértice dentro do triângulo formado pelo vértice atual e seus vizinhos\n",
        "    for j in range(n):\n",
        "        if j != i and j != (i-1) % n and j != (i+1) % n:\n",
        "            ponto = poligono[j]\n",
        "            if ponto_esta_dentro_de_triangulo(ponto, vertice_anterior, vertice_atual, vertice_seguinte):\n",
        "                return False\n",
        "\n",
        "    return True"
      ]
    },
    {
      "cell_type": "markdown",
      "metadata": {
        "id": "7jdvQPB9ZtLV"
      },
      "source": [
        "Explicação: A função ponto_esta_dentro_de_triangulo verifica se um ponto está dentro de um triângulo formado por três vértices.\n",
        "\n",
        "Cálculo dos Produtos Vetoriais: Calcula os produtos vetoriais dos vetores formados pelo ponto e os três vértices do triângulo.\n",
        "\n",
        "Verificação de Lados: Verifica se o ponto está do mesmo lado de cada aresta do triângulo.\n",
        "\n",
        "Retorno: Se o ponto está do mesmo lado de todas as arestas, retorna True, indicando que o ponto está dentro do triângulo. Caso contrário, retorna False."
      ]
    },
    {
      "cell_type": "code",
      "execution_count": 7,
      "metadata": {
        "id": "dPkgXbU3sLXZ"
      },
      "outputs": [],
      "source": [
        "def ponto_esta_dentro_de_triangulo(ponto, a, b, c):\n",
        "    # Verifica se o ponto está do mesmo lado de todos os lados de um triângulo\n",
        "    ab = (b[0] - a[0]) * (ponto[1] - a[1]) - (b[1] - a[1]) * (ponto[0] - a[0])\n",
        "    bc = (c[0] - b[0]) * (ponto[1] - b[1]) - (c[1] - b[1]) * (ponto[0] - b[0])\n",
        "    ca = (a[0] - c[0]) * (ponto[1] - c[1]) - (a[1] - c[1]) * (ponto[0] - c[0])\n",
        "\n",
        "    return (ab >= 0 and bc >= 0 and ca >= 0) or (ab <= 0 and bc <= 0 and ca <= 0)"
      ]
    },
    {
      "cell_type": "code",
      "execution_count": 8,
      "metadata": {},
      "outputs": [],
      "source": [
        "def Corte_de_orelhas(poligono):\n",
        "  n = len(poligono)\n",
        "  triangulos = []\n",
        "\n",
        "  while n > 2:\n",
        "      for i in range(n):\n",
        "          if E_orelha(poligono, i):\n",
        "              vertice_anterior = poligono[(i-1) % n]\n",
        "              vertice_atual = poligono[i]\n",
        "              vertice_seguinte = poligono[(i+1) % n]\n",
        "\n",
        "              triangulos.append((vertice_anterior, vertice_atual, vertice_seguinte))\n",
        "              poligono.remove(vertice_atual)\n",
        "              n -= 1\n",
        "              break\n",
        "  return triangulos"
      ]
    },
    {
      "cell_type": "markdown",
      "metadata": {
        "id": "0eq5QvEF7eRf"
      },
      "source": [
        "#Criação das imagens do processo do corte de orelhas"
      ]
    },
    {
      "cell_type": "markdown",
      "metadata": {
        "id": "itEmcW2raNOI"
      },
      "source": [
        "Explicação: A função printandoPoligono plota o polígono e opcionalmente destaca uma \"orelha\" encontrada durante o processo de triangulação.\n",
        "\n",
        "Coordenadas do Polígono: As coordenadas x e y dos vértices do polígono são extraídas e fechadas para formar um ciclo.\n",
        "\n",
        "Configuração do Gráfico: Um gráfico é configurado com um tamanho ajustado.\n",
        "Plotagem do Polígono: O polígono é plotado com bordas azuis e preenchimento semitransparente.\n",
        "\n",
        "Destacar Orelha: Se uma orelha for fornecida, ela é plotada com bordas laranjas e preenchimento semitransparente.\n",
        "\n",
        "Informações do Passo: Se informações do passo forem fornecidas, elas são adicionadas como título do gráfico.\n",
        "\n",
        "Eixos e Legenda: Os eixos são rotulados e uma grade é adicionada. Uma linha horizontal e uma vertical são desenhadas no eixo 0. A legenda é configurada.\n",
        "\n",
        "Salvar Frame: Se um número de quadro e uma lista de arquivos temporários forem fornecidos, o gráfico é salvo como uma imagem temporária e fechado."
      ]
    },
    {
      "cell_type": "code",
      "execution_count": 9,
      "metadata": {
        "id": "P0_LSgiEWhOZ"
      },
      "outputs": [],
      "source": [
        "def printandoPoligono(poligono, orelha=None, frame_num=None, temp_files=None, step_info=None):\n",
        "    x, y = zip(*poligono)\n",
        "    x += (x[0],)\n",
        "    y += (y[0],)\n",
        "\n",
        "    plt.figure(figsize=(8.4, 7), dpi=100)\n",
        "    plt.plot(x, y, marker='o', color='#1f77b4', linestyle='-', linewidth=2, markersize=5.6, label='Polígono Original')\n",
        "    plt.fill(x, y, alpha=0.2, color='#1f77b4')\n",
        "\n",
        "    if orelha:\n",
        "        ox, oy = zip(*orelha)\n",
        "        ox += (ox[0],)\n",
        "        oy += (oy[0],)\n",
        "        plt.plot(ox, oy, marker='o', color='#ff7f0e', linestyle='-', linewidth=2, markersize=5.6, label='Orelha Encontrada')\n",
        "        plt.fill(ox, oy, alpha=0.5, color='#ff7f0e')\n",
        "\n",
        "    if step_info:\n",
        "        plt.title(step_info, fontsize=11.2, fontweight='bold', color='#2ca02c')\n",
        "\n",
        "    plt.xlabel('Coordenada X', fontsize=9.8)\n",
        "    plt.ylabel('Coordenada Y', fontsize=9.8)\n",
        "    plt.grid(True, linestyle='--', alpha=0.6)\n",
        "    plt.axhline(0, color='black', linewidth=0.5)\n",
        "    plt.axvline(0, color='black', linewidth=0.5)\n",
        "    plt.gca().set_aspect('equal', adjustable='box')\n",
        "    plt.legend(loc='upper right', fontsize=8.4)\n",
        "\n",
        "    if frame_num is not None and temp_files is not None:\n",
        "        temp_file = tempfile.NamedTemporaryFile(delete=False, suffix='.png')\n",
        "        plt.savefig(temp_file.name)\n",
        "        temp_files.append(temp_file.name)\n",
        "    plt.close()\n"
      ]
    },
    {
      "cell_type": "markdown",
      "metadata": {
        "id": "12o0GyjuaDa6"
      },
      "source": [
        "A função Corte_de_orelhas_animacao realiza a triangulação de um polígono usando o método de corte de orelhas e cria uma animação do processo.\n",
        "\n",
        "Inicialização: O número de vértices (n), a lista de triângulos resultantes (triangulos), o número do quadro da animação (frame_num) e os arquivos temporários para os frames da animação (temp_files) são inicializados.\n",
        "\n",
        "Loop de Triangulação: Enquanto o polígono tiver mais de três vértices, ele continua a procurar e remover \"orelhas\":\n",
        "\n",
        "Encontrar Orelha: Para cada vértice, verifica se ele forma uma \"orelha\" com seus vizinhos.\n",
        "\n",
        "Plotar Orelha: Se uma orelha é encontrada, ela é destacada no gráfico e salva como um frame na animação.\n",
        "\n",
        "Remover Orelha: A orelha encontrada é removida da lista de vértices do polígono.\n",
        "Plotar Polígono Atualizado: O polígono atualizado é plotado e salvo como um frame na animação.\n",
        "\n",
        "Retorno: A função retorna a lista de triângulos e os arquivos temporários dos frames da animação."
      ]
    },
    {
      "cell_type": "code",
      "execution_count": 10,
      "metadata": {
        "id": "_Grk28IyWElT"
      },
      "outputs": [],
      "source": [
        "def Corte_de_orelhas_animacao(poligono):\n",
        "    n = len(poligono)\n",
        "    triangulos = []\n",
        "    frame_num = 0\n",
        "    temp_files = []\n",
        "\n",
        "    while n > 2:\n",
        "        for i in range(n):\n",
        "            if E_orelha(poligono, i):\n",
        "                orelha = [poligono[(i-1) % n], poligono[i], poligono[(i+1) % n]]\n",
        "                step_info = f'Encontrada orelha em {poligono[i]} com vértices {orelha}'\n",
        "                printandoPoligono(poligono, orelha, frame_num, temp_files, step_info)\n",
        "                frame_num += 1\n",
        "\n",
        "                vertice_anterior = poligono[(i-1) % n]\n",
        "                vertice_atual = poligono[i]\n",
        "                vertice_seguinte = poligono[(i+1) % n]\n",
        "\n",
        "                triangulos.append((vertice_anterior, vertice_atual, vertice_seguinte))\n",
        "                poligono.remove(vertice_atual)\n",
        "                n -= 1\n",
        "\n",
        "                step_info = f'Removida orelha em {vertice_atual}. Polígono atualizado.'\n",
        "                printandoPoligono(poligono, frame_num=frame_num, temp_files=temp_files, step_info=step_info)\n",
        "                frame_num += 1\n",
        "                break\n",
        "\n",
        "    return triangulos, temp_files\n",
        "\n",
        "triangulos, temp_files = Corte_de_orelhas_animacao(poligono)"
      ]
    },
    {
      "cell_type": "code",
      "execution_count": 11,
      "metadata": {
        "colab": {
          "base_uri": "https://localhost:8080/",
          "height": 34
        },
        "id": "uNYCs8M-6wQ6",
        "outputId": "86b97c31-62b2-48a1-f3c1-02fbacf869f3"
      },
      "outputs": [
        {
          "name": "stdout",
          "output_type": "stream",
          "text": [
            "GIF salvo como corte_de_orelhas.gif\n"
          ]
        }
      ],
      "source": [
        "def criar_gif(temp_files, gif_name='corte_de_orelhas.gif'):\n",
        "    images = []\n",
        "    for temp_file in temp_files:\n",
        "        images.append(imageio.imread(temp_file))\n",
        "    imageio.mimsave(gif_name, images, duration=0.5)\n",
        "    print(f'GIF salvo como {gif_name}')\n",
        "\n",
        "def mostrar_frame(frame_num, temp_files):\n",
        "    display(Image(filename=temp_files[frame_num]))\n",
        "\n",
        "def play_gif(slider, temp_files):\n",
        "    for i in range(slider.max + 1):\n",
        "        slider.value = i\n",
        "        time.sleep(0.5)\n",
        "\n",
        "if not os.path.exists('frames'):\n",
        "  os.makedirs('frames')\n",
        "\n",
        "criar_gif(temp_files)\n",
        "\n",
        "num_frames = len(temp_files)\n",
        "\n",
        "slider = widgets.IntSlider(min=0, max=num_frames-1, step=1, description='Frame:')\n",
        "interactive_plot = widgets.interactive(mostrar_frame, frame_num=slider, temp_files=widgets.fixed(temp_files))\n",
        "\n",
        "play_button = widgets.Button(description=\"Play GIF\")\n",
        "play_button.on_click(lambda x: play_gif(slider, temp_files))\n"
      ]
    },
    {
      "cell_type": "markdown",
      "metadata": {
        "id": "vwMVdkh7BLOX"
      },
      "source": [
        "#Visualização das etapas de descoberta e corte de orelhas"
      ]
    },
    {
      "cell_type": "code",
      "execution_count": 12,
      "metadata": {
        "colab": {
          "base_uri": "https://localhost:8080/",
          "height": 781,
          "referenced_widgets": [
            "1da3415c61064dc1b1366b665f08fe56",
            "9e8205a9fc134c2eb731aea5161f1bb0",
            "9510682249ed4076bd69d67199b858aa",
            "a5c4b407a4d1465dbef88da3f4096e31",
            "31940467b1d5485ca734657f74756ad2",
            "235c0e30f246454e8f310898fe4825fd",
            "987bffc182ea43c4b76657a24161ebbd",
            "d51aba213bf440a098faec6664e4751b",
            "018209d270bb4ac5b4208aa5c5c32434",
            "1d8fa95479504fee8954085c88b471ac"
          ]
        },
        "id": "Dem8pXPMBauf",
        "outputId": "3903f3fd-b9d1-42cf-81c5-77a9bd6ddd03"
      },
      "outputs": [
        {
          "data": {
            "application/vnd.jupyter.widget-view+json": {
              "model_id": "bc29b7cd45a147379d2b36b243af6742",
              "version_major": 2,
              "version_minor": 0
            },
            "text/plain": [
              "Button(description='Play GIF', style=ButtonStyle())"
            ]
          },
          "metadata": {},
          "output_type": "display_data"
        },
        {
          "data": {
            "application/vnd.jupyter.widget-view+json": {
              "model_id": "d160eac17b3947e19508b4882fa3ac48",
              "version_major": 2,
              "version_minor": 0
            },
            "text/plain": [
              "interactive(children=(IntSlider(value=0, description='Frame:', max=15), Output()), _dom_classes=('widget-inter…"
            ]
          },
          "metadata": {},
          "output_type": "display_data"
        }
      ],
      "source": [
        "display(play_button)\n",
        "display(interactive_plot)"
      ]
    },
    {
      "cell_type": "markdown",
      "metadata": {
        "id": "ria9_n0OElCk"
      },
      "source": [
        "# Criação do grafo dual"
      ]
    },
    {
      "cell_type": "markdown",
      "metadata": {
        "id": "hPI_0dUKdsPy"
      },
      "source": [
        "Neste passo realizamos a criação do grafo dual, de modo que cada face se torna um vértice e temos uma aresta entre faces adjacentes, nesse caso em específico, os vértices são os  triângulos e as arestas se eles compartilham uma diagonal. Na animação abaixo pode-se ver o passo a passo da inserção dos vértices e arestas do grafo dual, em que selecionamos o centro do triangulo como a posição do vértice do dual. Além disso,  como as diagonais dividem o polígono em dois, a remoção de qualquer aresta do grafo obtido o desconecta. Portanto, temos uma árvore."
      ]
    },
    {
      "cell_type": "code",
      "execution_count": 13,
      "metadata": {
        "id": "YEVy69o5sK5g"
      },
      "outputs": [],
      "source": [
        "def triangulos_sao_adjacentes(triangulo1, triangulo2):\n",
        "    vertices_comuns = 0\n",
        "    for vertice1 in triangulo1:\n",
        "        for vertice2 in triangulo2:\n",
        "            if vertice1 == vertice2:\n",
        "                vertices_comuns += 1\n",
        "    return vertices_comuns == 2"
      ]
    },
    {
      "cell_type": "code",
      "execution_count": 14,
      "metadata": {
        "id": "jGkiIeKzsA4i"
      },
      "outputs": [],
      "source": [
        "def Criar_grafo_dual(triangulos):\n",
        "    grafo_dual = {}\n",
        "    for i in range(len(triangulos)):\n",
        "        grafo_dual[i] = []\n",
        "        for j in range(len(triangulos)):\n",
        "            if i != j and triangulos_sao_adjacentes(triangulos[i], triangulos[j]):\n",
        "                grafo_dual[i].append(j)\n",
        "    return grafo_dual"
      ]
    },
    {
      "cell_type": "markdown",
      "metadata": {
        "id": "jQUsY98fEx0O"
      },
      "source": [
        "# Visualização do grafo obtido"
      ]
    },
    {
      "cell_type": "code",
      "execution_count": 15,
      "metadata": {
        "colab": {
          "base_uri": "https://localhost:8080/",
          "height": 542
        },
        "id": "IWM0KFlwWRsl",
        "outputId": "7e658646-d4e4-465f-d8ea-1320f7e69da2"
      },
      "outputs": [
        {
          "data": {
            "application/vnd.plotly.v1+json": {
              "config": {
                "plotlyServerURL": "https://plot.ly"
              },
              "data": [
                {
                  "hoverinfo": "text",
                  "line": {
                    "color": "red",
                    "width": 2
                  },
                  "marker": {
                    "size": 10
                  },
                  "mode": "markers+lines",
                  "text": [],
                  "type": "scatter",
                  "x": [],
                  "y": []
                }
              ],
              "frames": [
                {
                  "data": [
                    {
                      "hoverinfo": "text",
                      "line": {
                        "color": "red",
                        "width": 2
                      },
                      "marker": {
                        "size": 10
                      },
                      "mode": "markers+lines",
                      "text": [],
                      "type": "scatter",
                      "x": [],
                      "y": []
                    }
                  ],
                  "name": "Frame 0"
                },
                {
                  "data": [
                    {
                      "hoverinfo": "text",
                      "line": {
                        "color": "red",
                        "width": 2
                      },
                      "marker": {
                        "size": 10
                      },
                      "mode": "markers+lines",
                      "text": [
                        "Triângulo (1.3333333333333333, 1.6666666666666667)"
                      ],
                      "type": "scatter",
                      "x": [
                        1.3333333333333333
                      ],
                      "y": [
                        1.6666666666666667
                      ]
                    }
                  ],
                  "name": "Frame 0"
                },
                {
                  "data": [
                    {
                      "hoverinfo": "text",
                      "line": {
                        "color": "red",
                        "width": 2
                      },
                      "marker": {
                        "size": 10
                      },
                      "mode": "markers+lines",
                      "text": [
                        "Triângulo (1.3333333333333333, 1.6666666666666667)"
                      ],
                      "type": "scatter",
                      "x": [
                        1.3333333333333333
                      ],
                      "y": [
                        1.6666666666666667
                      ]
                    },
                    {
                      "line": {
                        "color": "blue",
                        "width": 3
                      },
                      "mode": "lines",
                      "type": "scatter",
                      "x": [
                        1.3333333333333333,
                        1.6666666666666667
                      ],
                      "y": [
                        1.6666666666666667,
                        2
                      ]
                    }
                  ],
                  "name": "Frame 0-1"
                },
                {
                  "data": [
                    {
                      "hoverinfo": "text",
                      "line": {
                        "color": "red",
                        "width": 2
                      },
                      "marker": {
                        "size": 10
                      },
                      "mode": "markers+lines",
                      "text": [
                        "Triângulo (1.3333333333333333, 1.6666666666666667)",
                        "Triângulo (1.6666666666666667, 2.0)"
                      ],
                      "type": "scatter",
                      "x": [
                        1.3333333333333333,
                        1.6666666666666667
                      ],
                      "y": [
                        1.6666666666666667,
                        2
                      ]
                    }
                  ],
                  "name": "Frame 1"
                },
                {
                  "data": [
                    {
                      "hoverinfo": "text",
                      "line": {
                        "color": "red",
                        "width": 2
                      },
                      "marker": {
                        "size": 10
                      },
                      "mode": "markers+lines",
                      "text": [
                        "Triângulo (1.3333333333333333, 1.6666666666666667)",
                        "Triângulo (1.6666666666666667, 2.0)"
                      ],
                      "type": "scatter",
                      "x": [
                        1.3333333333333333,
                        1.6666666666666667
                      ],
                      "y": [
                        1.6666666666666667,
                        2
                      ]
                    },
                    {
                      "line": {
                        "color": "blue",
                        "width": 3
                      },
                      "mode": "lines",
                      "type": "scatter",
                      "x": [
                        1.6666666666666667,
                        1.3333333333333333
                      ],
                      "y": [
                        2,
                        1.6666666666666667
                      ]
                    }
                  ],
                  "name": "Frame 1-0"
                },
                {
                  "data": [
                    {
                      "hoverinfo": "text",
                      "line": {
                        "color": "red",
                        "width": 2
                      },
                      "marker": {
                        "size": 10
                      },
                      "mode": "markers+lines",
                      "text": [
                        "Triângulo (1.3333333333333333, 1.6666666666666667)",
                        "Triângulo (1.6666666666666667, 2.0)"
                      ],
                      "type": "scatter",
                      "x": [
                        1.3333333333333333,
                        1.6666666666666667
                      ],
                      "y": [
                        1.6666666666666667,
                        2
                      ]
                    },
                    {
                      "line": {
                        "color": "blue",
                        "width": 3
                      },
                      "mode": "lines",
                      "type": "scatter",
                      "x": [
                        1.6666666666666667,
                        2.3333333333333335
                      ],
                      "y": [
                        2,
                        2.3333333333333335
                      ]
                    }
                  ],
                  "name": "Frame 1-2"
                },
                {
                  "data": [
                    {
                      "hoverinfo": "text",
                      "line": {
                        "color": "red",
                        "width": 2
                      },
                      "marker": {
                        "size": 10
                      },
                      "mode": "markers+lines",
                      "text": [
                        "Triângulo (1.3333333333333333, 1.6666666666666667)",
                        "Triângulo (1.6666666666666667, 2.0)",
                        "Triângulo (2.3333333333333335, 2.3333333333333335)"
                      ],
                      "type": "scatter",
                      "x": [
                        1.3333333333333333,
                        1.6666666666666667,
                        2.3333333333333335
                      ],
                      "y": [
                        1.6666666666666667,
                        2,
                        2.3333333333333335
                      ]
                    }
                  ],
                  "name": "Frame 2"
                },
                {
                  "data": [
                    {
                      "hoverinfo": "text",
                      "line": {
                        "color": "red",
                        "width": 2
                      },
                      "marker": {
                        "size": 10
                      },
                      "mode": "markers+lines",
                      "text": [
                        "Triângulo (1.3333333333333333, 1.6666666666666667)",
                        "Triângulo (1.6666666666666667, 2.0)",
                        "Triângulo (2.3333333333333335, 2.3333333333333335)"
                      ],
                      "type": "scatter",
                      "x": [
                        1.3333333333333333,
                        1.6666666666666667,
                        2.3333333333333335
                      ],
                      "y": [
                        1.6666666666666667,
                        2,
                        2.3333333333333335
                      ]
                    },
                    {
                      "line": {
                        "color": "blue",
                        "width": 3
                      },
                      "mode": "lines",
                      "type": "scatter",
                      "x": [
                        2.3333333333333335,
                        1.6666666666666667
                      ],
                      "y": [
                        2.3333333333333335,
                        2
                      ]
                    }
                  ],
                  "name": "Frame 2-1"
                },
                {
                  "data": [
                    {
                      "hoverinfo": "text",
                      "line": {
                        "color": "red",
                        "width": 2
                      },
                      "marker": {
                        "size": 10
                      },
                      "mode": "markers+lines",
                      "text": [
                        "Triângulo (1.3333333333333333, 1.6666666666666667)",
                        "Triângulo (1.6666666666666667, 2.0)",
                        "Triângulo (2.3333333333333335, 2.3333333333333335)"
                      ],
                      "type": "scatter",
                      "x": [
                        1.3333333333333333,
                        1.6666666666666667,
                        2.3333333333333335
                      ],
                      "y": [
                        1.6666666666666667,
                        2,
                        2.3333333333333335
                      ]
                    },
                    {
                      "line": {
                        "color": "blue",
                        "width": 3
                      },
                      "mode": "lines",
                      "type": "scatter",
                      "x": [
                        2.3333333333333335,
                        2.6666666666666665
                      ],
                      "y": [
                        2.3333333333333335,
                        2.6666666666666665
                      ]
                    }
                  ],
                  "name": "Frame 2-7"
                },
                {
                  "data": [
                    {
                      "hoverinfo": "text",
                      "line": {
                        "color": "red",
                        "width": 2
                      },
                      "marker": {
                        "size": 10
                      },
                      "mode": "markers+lines",
                      "text": [
                        "Triângulo (1.3333333333333333, 1.6666666666666667)",
                        "Triângulo (1.6666666666666667, 2.0)",
                        "Triângulo (2.3333333333333335, 2.3333333333333335)",
                        "Triângulo (4.666666666666667, 4.333333333333333)"
                      ],
                      "type": "scatter",
                      "x": [
                        1.3333333333333333,
                        1.6666666666666667,
                        2.3333333333333335,
                        4.666666666666667
                      ],
                      "y": [
                        1.6666666666666667,
                        2,
                        2.3333333333333335,
                        4.333333333333333
                      ]
                    }
                  ],
                  "name": "Frame 3"
                },
                {
                  "data": [
                    {
                      "hoverinfo": "text",
                      "line": {
                        "color": "red",
                        "width": 2
                      },
                      "marker": {
                        "size": 10
                      },
                      "mode": "markers+lines",
                      "text": [
                        "Triângulo (1.3333333333333333, 1.6666666666666667)",
                        "Triângulo (1.6666666666666667, 2.0)",
                        "Triângulo (2.3333333333333335, 2.3333333333333335)",
                        "Triângulo (4.666666666666667, 4.333333333333333)"
                      ],
                      "type": "scatter",
                      "x": [
                        1.3333333333333333,
                        1.6666666666666667,
                        2.3333333333333335,
                        4.666666666666667
                      ],
                      "y": [
                        1.6666666666666667,
                        2,
                        2.3333333333333335,
                        4.333333333333333
                      ]
                    },
                    {
                      "line": {
                        "color": "blue",
                        "width": 3
                      },
                      "mode": "lines",
                      "type": "scatter",
                      "x": [
                        4.666666666666667,
                        4
                      ],
                      "y": [
                        4.333333333333333,
                        4.666666666666667
                      ]
                    }
                  ],
                  "name": "Frame 3-4"
                },
                {
                  "data": [
                    {
                      "hoverinfo": "text",
                      "line": {
                        "color": "red",
                        "width": 2
                      },
                      "marker": {
                        "size": 10
                      },
                      "mode": "markers+lines",
                      "text": [
                        "Triângulo (1.3333333333333333, 1.6666666666666667)",
                        "Triângulo (1.6666666666666667, 2.0)",
                        "Triângulo (2.3333333333333335, 2.3333333333333335)",
                        "Triângulo (4.666666666666667, 4.333333333333333)",
                        "Triângulo (4.0, 4.666666666666667)"
                      ],
                      "type": "scatter",
                      "x": [
                        1.3333333333333333,
                        1.6666666666666667,
                        2.3333333333333335,
                        4.666666666666667,
                        4
                      ],
                      "y": [
                        1.6666666666666667,
                        2,
                        2.3333333333333335,
                        4.333333333333333,
                        4.666666666666667
                      ]
                    }
                  ],
                  "name": "Frame 4"
                },
                {
                  "data": [
                    {
                      "hoverinfo": "text",
                      "line": {
                        "color": "red",
                        "width": 2
                      },
                      "marker": {
                        "size": 10
                      },
                      "mode": "markers+lines",
                      "text": [
                        "Triângulo (1.3333333333333333, 1.6666666666666667)",
                        "Triângulo (1.6666666666666667, 2.0)",
                        "Triângulo (2.3333333333333335, 2.3333333333333335)",
                        "Triângulo (4.666666666666667, 4.333333333333333)",
                        "Triângulo (4.0, 4.666666666666667)"
                      ],
                      "type": "scatter",
                      "x": [
                        1.3333333333333333,
                        1.6666666666666667,
                        2.3333333333333335,
                        4.666666666666667,
                        4
                      ],
                      "y": [
                        1.6666666666666667,
                        2,
                        2.3333333333333335,
                        4.333333333333333,
                        4.666666666666667
                      ]
                    },
                    {
                      "line": {
                        "color": "blue",
                        "width": 3
                      },
                      "mode": "lines",
                      "type": "scatter",
                      "x": [
                        4,
                        4.666666666666667
                      ],
                      "y": [
                        4.666666666666667,
                        4.333333333333333
                      ]
                    }
                  ],
                  "name": "Frame 4-3"
                },
                {
                  "data": [
                    {
                      "hoverinfo": "text",
                      "line": {
                        "color": "red",
                        "width": 2
                      },
                      "marker": {
                        "size": 10
                      },
                      "mode": "markers+lines",
                      "text": [
                        "Triângulo (1.3333333333333333, 1.6666666666666667)",
                        "Triângulo (1.6666666666666667, 2.0)",
                        "Triângulo (2.3333333333333335, 2.3333333333333335)",
                        "Triângulo (4.666666666666667, 4.333333333333333)",
                        "Triângulo (4.0, 4.666666666666667)"
                      ],
                      "type": "scatter",
                      "x": [
                        1.3333333333333333,
                        1.6666666666666667,
                        2.3333333333333335,
                        4.666666666666667,
                        4
                      ],
                      "y": [
                        1.6666666666666667,
                        2,
                        2.3333333333333335,
                        4.333333333333333,
                        4.666666666666667
                      ]
                    },
                    {
                      "line": {
                        "color": "blue",
                        "width": 3
                      },
                      "mode": "lines",
                      "type": "scatter",
                      "x": [
                        4,
                        3.6666666666666665
                      ],
                      "y": [
                        4.666666666666667,
                        3.6666666666666665
                      ]
                    }
                  ],
                  "name": "Frame 4-5"
                },
                {
                  "data": [
                    {
                      "hoverinfo": "text",
                      "line": {
                        "color": "red",
                        "width": 2
                      },
                      "marker": {
                        "size": 10
                      },
                      "mode": "markers+lines",
                      "text": [
                        "Triângulo (1.3333333333333333, 1.6666666666666667)",
                        "Triângulo (1.6666666666666667, 2.0)",
                        "Triângulo (2.3333333333333335, 2.3333333333333335)",
                        "Triângulo (4.666666666666667, 4.333333333333333)",
                        "Triângulo (4.0, 4.666666666666667)",
                        "Triângulo (3.6666666666666665, 3.6666666666666665)"
                      ],
                      "type": "scatter",
                      "x": [
                        1.3333333333333333,
                        1.6666666666666667,
                        2.3333333333333335,
                        4.666666666666667,
                        4,
                        3.6666666666666665
                      ],
                      "y": [
                        1.6666666666666667,
                        2,
                        2.3333333333333335,
                        4.333333333333333,
                        4.666666666666667,
                        3.6666666666666665
                      ]
                    }
                  ],
                  "name": "Frame 5"
                },
                {
                  "data": [
                    {
                      "hoverinfo": "text",
                      "line": {
                        "color": "red",
                        "width": 2
                      },
                      "marker": {
                        "size": 10
                      },
                      "mode": "markers+lines",
                      "text": [
                        "Triângulo (1.3333333333333333, 1.6666666666666667)",
                        "Triângulo (1.6666666666666667, 2.0)",
                        "Triângulo (2.3333333333333335, 2.3333333333333335)",
                        "Triângulo (4.666666666666667, 4.333333333333333)",
                        "Triângulo (4.0, 4.666666666666667)",
                        "Triângulo (3.6666666666666665, 3.6666666666666665)"
                      ],
                      "type": "scatter",
                      "x": [
                        1.3333333333333333,
                        1.6666666666666667,
                        2.3333333333333335,
                        4.666666666666667,
                        4,
                        3.6666666666666665
                      ],
                      "y": [
                        1.6666666666666667,
                        2,
                        2.3333333333333335,
                        4.333333333333333,
                        4.666666666666667,
                        3.6666666666666665
                      ]
                    },
                    {
                      "line": {
                        "color": "blue",
                        "width": 3
                      },
                      "mode": "lines",
                      "type": "scatter",
                      "x": [
                        3.6666666666666665,
                        4
                      ],
                      "y": [
                        3.6666666666666665,
                        4.666666666666667
                      ]
                    }
                  ],
                  "name": "Frame 5-4"
                },
                {
                  "data": [
                    {
                      "hoverinfo": "text",
                      "line": {
                        "color": "red",
                        "width": 2
                      },
                      "marker": {
                        "size": 10
                      },
                      "mode": "markers+lines",
                      "text": [
                        "Triângulo (1.3333333333333333, 1.6666666666666667)",
                        "Triângulo (1.6666666666666667, 2.0)",
                        "Triângulo (2.3333333333333335, 2.3333333333333335)",
                        "Triângulo (4.666666666666667, 4.333333333333333)",
                        "Triângulo (4.0, 4.666666666666667)",
                        "Triângulo (3.6666666666666665, 3.6666666666666665)"
                      ],
                      "type": "scatter",
                      "x": [
                        1.3333333333333333,
                        1.6666666666666667,
                        2.3333333333333335,
                        4.666666666666667,
                        4,
                        3.6666666666666665
                      ],
                      "y": [
                        1.6666666666666667,
                        2,
                        2.3333333333333335,
                        4.333333333333333,
                        4.666666666666667,
                        3.6666666666666665
                      ]
                    },
                    {
                      "line": {
                        "color": "blue",
                        "width": 3
                      },
                      "mode": "lines",
                      "type": "scatter",
                      "x": [
                        3.6666666666666665,
                        3.3333333333333335
                      ],
                      "y": [
                        3.6666666666666665,
                        3.3333333333333335
                      ]
                    }
                  ],
                  "name": "Frame 5-6"
                },
                {
                  "data": [
                    {
                      "hoverinfo": "text",
                      "line": {
                        "color": "red",
                        "width": 2
                      },
                      "marker": {
                        "size": 10
                      },
                      "mode": "markers+lines",
                      "text": [
                        "Triângulo (1.3333333333333333, 1.6666666666666667)",
                        "Triângulo (1.6666666666666667, 2.0)",
                        "Triângulo (2.3333333333333335, 2.3333333333333335)",
                        "Triângulo (4.666666666666667, 4.333333333333333)",
                        "Triângulo (4.0, 4.666666666666667)",
                        "Triângulo (3.6666666666666665, 3.6666666666666665)",
                        "Triângulo (3.3333333333333335, 3.3333333333333335)"
                      ],
                      "type": "scatter",
                      "x": [
                        1.3333333333333333,
                        1.6666666666666667,
                        2.3333333333333335,
                        4.666666666666667,
                        4,
                        3.6666666666666665,
                        3.3333333333333335
                      ],
                      "y": [
                        1.6666666666666667,
                        2,
                        2.3333333333333335,
                        4.333333333333333,
                        4.666666666666667,
                        3.6666666666666665,
                        3.3333333333333335
                      ]
                    }
                  ],
                  "name": "Frame 6"
                },
                {
                  "data": [
                    {
                      "hoverinfo": "text",
                      "line": {
                        "color": "red",
                        "width": 2
                      },
                      "marker": {
                        "size": 10
                      },
                      "mode": "markers+lines",
                      "text": [
                        "Triângulo (1.3333333333333333, 1.6666666666666667)",
                        "Triângulo (1.6666666666666667, 2.0)",
                        "Triângulo (2.3333333333333335, 2.3333333333333335)",
                        "Triângulo (4.666666666666667, 4.333333333333333)",
                        "Triângulo (4.0, 4.666666666666667)",
                        "Triângulo (3.6666666666666665, 3.6666666666666665)",
                        "Triângulo (3.3333333333333335, 3.3333333333333335)"
                      ],
                      "type": "scatter",
                      "x": [
                        1.3333333333333333,
                        1.6666666666666667,
                        2.3333333333333335,
                        4.666666666666667,
                        4,
                        3.6666666666666665,
                        3.3333333333333335
                      ],
                      "y": [
                        1.6666666666666667,
                        2,
                        2.3333333333333335,
                        4.333333333333333,
                        4.666666666666667,
                        3.6666666666666665,
                        3.3333333333333335
                      ]
                    },
                    {
                      "line": {
                        "color": "blue",
                        "width": 3
                      },
                      "mode": "lines",
                      "type": "scatter",
                      "x": [
                        3.3333333333333335,
                        3.6666666666666665
                      ],
                      "y": [
                        3.3333333333333335,
                        3.6666666666666665
                      ]
                    }
                  ],
                  "name": "Frame 6-5"
                },
                {
                  "data": [
                    {
                      "hoverinfo": "text",
                      "line": {
                        "color": "red",
                        "width": 2
                      },
                      "marker": {
                        "size": 10
                      },
                      "mode": "markers+lines",
                      "text": [
                        "Triângulo (1.3333333333333333, 1.6666666666666667)",
                        "Triângulo (1.6666666666666667, 2.0)",
                        "Triângulo (2.3333333333333335, 2.3333333333333335)",
                        "Triângulo (4.666666666666667, 4.333333333333333)",
                        "Triângulo (4.0, 4.666666666666667)",
                        "Triângulo (3.6666666666666665, 3.6666666666666665)",
                        "Triângulo (3.3333333333333335, 3.3333333333333335)"
                      ],
                      "type": "scatter",
                      "x": [
                        1.3333333333333333,
                        1.6666666666666667,
                        2.3333333333333335,
                        4.666666666666667,
                        4,
                        3.6666666666666665,
                        3.3333333333333335
                      ],
                      "y": [
                        1.6666666666666667,
                        2,
                        2.3333333333333335,
                        4.333333333333333,
                        4.666666666666667,
                        3.6666666666666665,
                        3.3333333333333335
                      ]
                    },
                    {
                      "line": {
                        "color": "blue",
                        "width": 3
                      },
                      "mode": "lines",
                      "type": "scatter",
                      "x": [
                        3.3333333333333335,
                        2.6666666666666665
                      ],
                      "y": [
                        3.3333333333333335,
                        2.6666666666666665
                      ]
                    }
                  ],
                  "name": "Frame 6-7"
                },
                {
                  "data": [
                    {
                      "hoverinfo": "text",
                      "line": {
                        "color": "red",
                        "width": 2
                      },
                      "marker": {
                        "size": 10
                      },
                      "mode": "markers+lines",
                      "text": [
                        "Triângulo (1.3333333333333333, 1.6666666666666667)",
                        "Triângulo (1.6666666666666667, 2.0)",
                        "Triângulo (2.3333333333333335, 2.3333333333333335)",
                        "Triângulo (4.666666666666667, 4.333333333333333)",
                        "Triângulo (4.0, 4.666666666666667)",
                        "Triângulo (3.6666666666666665, 3.6666666666666665)",
                        "Triângulo (3.3333333333333335, 3.3333333333333335)",
                        "Triângulo (2.6666666666666665, 2.6666666666666665)"
                      ],
                      "type": "scatter",
                      "x": [
                        1.3333333333333333,
                        1.6666666666666667,
                        2.3333333333333335,
                        4.666666666666667,
                        4,
                        3.6666666666666665,
                        3.3333333333333335,
                        2.6666666666666665
                      ],
                      "y": [
                        1.6666666666666667,
                        2,
                        2.3333333333333335,
                        4.333333333333333,
                        4.666666666666667,
                        3.6666666666666665,
                        3.3333333333333335,
                        2.6666666666666665
                      ]
                    }
                  ],
                  "name": "Frame 7"
                },
                {
                  "data": [
                    {
                      "hoverinfo": "text",
                      "line": {
                        "color": "red",
                        "width": 2
                      },
                      "marker": {
                        "size": 10
                      },
                      "mode": "markers+lines",
                      "text": [
                        "Triângulo (1.3333333333333333, 1.6666666666666667)",
                        "Triângulo (1.6666666666666667, 2.0)",
                        "Triângulo (2.3333333333333335, 2.3333333333333335)",
                        "Triângulo (4.666666666666667, 4.333333333333333)",
                        "Triângulo (4.0, 4.666666666666667)",
                        "Triângulo (3.6666666666666665, 3.6666666666666665)",
                        "Triângulo (3.3333333333333335, 3.3333333333333335)",
                        "Triângulo (2.6666666666666665, 2.6666666666666665)"
                      ],
                      "type": "scatter",
                      "x": [
                        1.3333333333333333,
                        1.6666666666666667,
                        2.3333333333333335,
                        4.666666666666667,
                        4,
                        3.6666666666666665,
                        3.3333333333333335,
                        2.6666666666666665
                      ],
                      "y": [
                        1.6666666666666667,
                        2,
                        2.3333333333333335,
                        4.333333333333333,
                        4.666666666666667,
                        3.6666666666666665,
                        3.3333333333333335,
                        2.6666666666666665
                      ]
                    },
                    {
                      "line": {
                        "color": "blue",
                        "width": 3
                      },
                      "mode": "lines",
                      "type": "scatter",
                      "x": [
                        2.6666666666666665,
                        2.3333333333333335
                      ],
                      "y": [
                        2.6666666666666665,
                        2.3333333333333335
                      ]
                    }
                  ],
                  "name": "Frame 7-2"
                },
                {
                  "data": [
                    {
                      "hoverinfo": "text",
                      "line": {
                        "color": "red",
                        "width": 2
                      },
                      "marker": {
                        "size": 10
                      },
                      "mode": "markers+lines",
                      "text": [
                        "Triângulo (1.3333333333333333, 1.6666666666666667)",
                        "Triângulo (1.6666666666666667, 2.0)",
                        "Triângulo (2.3333333333333335, 2.3333333333333335)",
                        "Triângulo (4.666666666666667, 4.333333333333333)",
                        "Triângulo (4.0, 4.666666666666667)",
                        "Triângulo (3.6666666666666665, 3.6666666666666665)",
                        "Triângulo (3.3333333333333335, 3.3333333333333335)",
                        "Triângulo (2.6666666666666665, 2.6666666666666665)"
                      ],
                      "type": "scatter",
                      "x": [
                        1.3333333333333333,
                        1.6666666666666667,
                        2.3333333333333335,
                        4.666666666666667,
                        4,
                        3.6666666666666665,
                        3.3333333333333335,
                        2.6666666666666665
                      ],
                      "y": [
                        1.6666666666666667,
                        2,
                        2.3333333333333335,
                        4.333333333333333,
                        4.666666666666667,
                        3.6666666666666665,
                        3.3333333333333335,
                        2.6666666666666665
                      ]
                    },
                    {
                      "line": {
                        "color": "blue",
                        "width": 3
                      },
                      "mode": "lines",
                      "type": "scatter",
                      "x": [
                        2.6666666666666665,
                        3.3333333333333335
                      ],
                      "y": [
                        2.6666666666666665,
                        3.3333333333333335
                      ]
                    }
                  ],
                  "name": "Frame 7-6"
                }
              ],
              "layout": {
                "plot_bgcolor": "rgba(0,0,0,0)",
                "template": {
                  "data": {
                    "bar": [
                      {
                        "error_x": {
                          "color": "#2a3f5f"
                        },
                        "error_y": {
                          "color": "#2a3f5f"
                        },
                        "marker": {
                          "line": {
                            "color": "#E5ECF6",
                            "width": 0.5
                          },
                          "pattern": {
                            "fillmode": "overlay",
                            "size": 10,
                            "solidity": 0.2
                          }
                        },
                        "type": "bar"
                      }
                    ],
                    "barpolar": [
                      {
                        "marker": {
                          "line": {
                            "color": "#E5ECF6",
                            "width": 0.5
                          },
                          "pattern": {
                            "fillmode": "overlay",
                            "size": 10,
                            "solidity": 0.2
                          }
                        },
                        "type": "barpolar"
                      }
                    ],
                    "carpet": [
                      {
                        "aaxis": {
                          "endlinecolor": "#2a3f5f",
                          "gridcolor": "white",
                          "linecolor": "white",
                          "minorgridcolor": "white",
                          "startlinecolor": "#2a3f5f"
                        },
                        "baxis": {
                          "endlinecolor": "#2a3f5f",
                          "gridcolor": "white",
                          "linecolor": "white",
                          "minorgridcolor": "white",
                          "startlinecolor": "#2a3f5f"
                        },
                        "type": "carpet"
                      }
                    ],
                    "choropleth": [
                      {
                        "colorbar": {
                          "outlinewidth": 0,
                          "ticks": ""
                        },
                        "type": "choropleth"
                      }
                    ],
                    "contour": [
                      {
                        "colorbar": {
                          "outlinewidth": 0,
                          "ticks": ""
                        },
                        "colorscale": [
                          [
                            0,
                            "#0d0887"
                          ],
                          [
                            0.1111111111111111,
                            "#46039f"
                          ],
                          [
                            0.2222222222222222,
                            "#7201a8"
                          ],
                          [
                            0.3333333333333333,
                            "#9c179e"
                          ],
                          [
                            0.4444444444444444,
                            "#bd3786"
                          ],
                          [
                            0.5555555555555556,
                            "#d8576b"
                          ],
                          [
                            0.6666666666666666,
                            "#ed7953"
                          ],
                          [
                            0.7777777777777778,
                            "#fb9f3a"
                          ],
                          [
                            0.8888888888888888,
                            "#fdca26"
                          ],
                          [
                            1,
                            "#f0f921"
                          ]
                        ],
                        "type": "contour"
                      }
                    ],
                    "contourcarpet": [
                      {
                        "colorbar": {
                          "outlinewidth": 0,
                          "ticks": ""
                        },
                        "type": "contourcarpet"
                      }
                    ],
                    "heatmap": [
                      {
                        "colorbar": {
                          "outlinewidth": 0,
                          "ticks": ""
                        },
                        "colorscale": [
                          [
                            0,
                            "#0d0887"
                          ],
                          [
                            0.1111111111111111,
                            "#46039f"
                          ],
                          [
                            0.2222222222222222,
                            "#7201a8"
                          ],
                          [
                            0.3333333333333333,
                            "#9c179e"
                          ],
                          [
                            0.4444444444444444,
                            "#bd3786"
                          ],
                          [
                            0.5555555555555556,
                            "#d8576b"
                          ],
                          [
                            0.6666666666666666,
                            "#ed7953"
                          ],
                          [
                            0.7777777777777778,
                            "#fb9f3a"
                          ],
                          [
                            0.8888888888888888,
                            "#fdca26"
                          ],
                          [
                            1,
                            "#f0f921"
                          ]
                        ],
                        "type": "heatmap"
                      }
                    ],
                    "heatmapgl": [
                      {
                        "colorbar": {
                          "outlinewidth": 0,
                          "ticks": ""
                        },
                        "colorscale": [
                          [
                            0,
                            "#0d0887"
                          ],
                          [
                            0.1111111111111111,
                            "#46039f"
                          ],
                          [
                            0.2222222222222222,
                            "#7201a8"
                          ],
                          [
                            0.3333333333333333,
                            "#9c179e"
                          ],
                          [
                            0.4444444444444444,
                            "#bd3786"
                          ],
                          [
                            0.5555555555555556,
                            "#d8576b"
                          ],
                          [
                            0.6666666666666666,
                            "#ed7953"
                          ],
                          [
                            0.7777777777777778,
                            "#fb9f3a"
                          ],
                          [
                            0.8888888888888888,
                            "#fdca26"
                          ],
                          [
                            1,
                            "#f0f921"
                          ]
                        ],
                        "type": "heatmapgl"
                      }
                    ],
                    "histogram": [
                      {
                        "marker": {
                          "pattern": {
                            "fillmode": "overlay",
                            "size": 10,
                            "solidity": 0.2
                          }
                        },
                        "type": "histogram"
                      }
                    ],
                    "histogram2d": [
                      {
                        "colorbar": {
                          "outlinewidth": 0,
                          "ticks": ""
                        },
                        "colorscale": [
                          [
                            0,
                            "#0d0887"
                          ],
                          [
                            0.1111111111111111,
                            "#46039f"
                          ],
                          [
                            0.2222222222222222,
                            "#7201a8"
                          ],
                          [
                            0.3333333333333333,
                            "#9c179e"
                          ],
                          [
                            0.4444444444444444,
                            "#bd3786"
                          ],
                          [
                            0.5555555555555556,
                            "#d8576b"
                          ],
                          [
                            0.6666666666666666,
                            "#ed7953"
                          ],
                          [
                            0.7777777777777778,
                            "#fb9f3a"
                          ],
                          [
                            0.8888888888888888,
                            "#fdca26"
                          ],
                          [
                            1,
                            "#f0f921"
                          ]
                        ],
                        "type": "histogram2d"
                      }
                    ],
                    "histogram2dcontour": [
                      {
                        "colorbar": {
                          "outlinewidth": 0,
                          "ticks": ""
                        },
                        "colorscale": [
                          [
                            0,
                            "#0d0887"
                          ],
                          [
                            0.1111111111111111,
                            "#46039f"
                          ],
                          [
                            0.2222222222222222,
                            "#7201a8"
                          ],
                          [
                            0.3333333333333333,
                            "#9c179e"
                          ],
                          [
                            0.4444444444444444,
                            "#bd3786"
                          ],
                          [
                            0.5555555555555556,
                            "#d8576b"
                          ],
                          [
                            0.6666666666666666,
                            "#ed7953"
                          ],
                          [
                            0.7777777777777778,
                            "#fb9f3a"
                          ],
                          [
                            0.8888888888888888,
                            "#fdca26"
                          ],
                          [
                            1,
                            "#f0f921"
                          ]
                        ],
                        "type": "histogram2dcontour"
                      }
                    ],
                    "mesh3d": [
                      {
                        "colorbar": {
                          "outlinewidth": 0,
                          "ticks": ""
                        },
                        "type": "mesh3d"
                      }
                    ],
                    "parcoords": [
                      {
                        "line": {
                          "colorbar": {
                            "outlinewidth": 0,
                            "ticks": ""
                          }
                        },
                        "type": "parcoords"
                      }
                    ],
                    "pie": [
                      {
                        "automargin": true,
                        "type": "pie"
                      }
                    ],
                    "scatter": [
                      {
                        "fillpattern": {
                          "fillmode": "overlay",
                          "size": 10,
                          "solidity": 0.2
                        },
                        "type": "scatter"
                      }
                    ],
                    "scatter3d": [
                      {
                        "line": {
                          "colorbar": {
                            "outlinewidth": 0,
                            "ticks": ""
                          }
                        },
                        "marker": {
                          "colorbar": {
                            "outlinewidth": 0,
                            "ticks": ""
                          }
                        },
                        "type": "scatter3d"
                      }
                    ],
                    "scattercarpet": [
                      {
                        "marker": {
                          "colorbar": {
                            "outlinewidth": 0,
                            "ticks": ""
                          }
                        },
                        "type": "scattercarpet"
                      }
                    ],
                    "scattergeo": [
                      {
                        "marker": {
                          "colorbar": {
                            "outlinewidth": 0,
                            "ticks": ""
                          }
                        },
                        "type": "scattergeo"
                      }
                    ],
                    "scattergl": [
                      {
                        "marker": {
                          "colorbar": {
                            "outlinewidth": 0,
                            "ticks": ""
                          }
                        },
                        "type": "scattergl"
                      }
                    ],
                    "scattermapbox": [
                      {
                        "marker": {
                          "colorbar": {
                            "outlinewidth": 0,
                            "ticks": ""
                          }
                        },
                        "type": "scattermapbox"
                      }
                    ],
                    "scatterpolar": [
                      {
                        "marker": {
                          "colorbar": {
                            "outlinewidth": 0,
                            "ticks": ""
                          }
                        },
                        "type": "scatterpolar"
                      }
                    ],
                    "scatterpolargl": [
                      {
                        "marker": {
                          "colorbar": {
                            "outlinewidth": 0,
                            "ticks": ""
                          }
                        },
                        "type": "scatterpolargl"
                      }
                    ],
                    "scatterternary": [
                      {
                        "marker": {
                          "colorbar": {
                            "outlinewidth": 0,
                            "ticks": ""
                          }
                        },
                        "type": "scatterternary"
                      }
                    ],
                    "surface": [
                      {
                        "colorbar": {
                          "outlinewidth": 0,
                          "ticks": ""
                        },
                        "colorscale": [
                          [
                            0,
                            "#0d0887"
                          ],
                          [
                            0.1111111111111111,
                            "#46039f"
                          ],
                          [
                            0.2222222222222222,
                            "#7201a8"
                          ],
                          [
                            0.3333333333333333,
                            "#9c179e"
                          ],
                          [
                            0.4444444444444444,
                            "#bd3786"
                          ],
                          [
                            0.5555555555555556,
                            "#d8576b"
                          ],
                          [
                            0.6666666666666666,
                            "#ed7953"
                          ],
                          [
                            0.7777777777777778,
                            "#fb9f3a"
                          ],
                          [
                            0.8888888888888888,
                            "#fdca26"
                          ],
                          [
                            1,
                            "#f0f921"
                          ]
                        ],
                        "type": "surface"
                      }
                    ],
                    "table": [
                      {
                        "cells": {
                          "fill": {
                            "color": "#EBF0F8"
                          },
                          "line": {
                            "color": "white"
                          }
                        },
                        "header": {
                          "fill": {
                            "color": "#C8D4E3"
                          },
                          "line": {
                            "color": "white"
                          }
                        },
                        "type": "table"
                      }
                    ]
                  },
                  "layout": {
                    "annotationdefaults": {
                      "arrowcolor": "#2a3f5f",
                      "arrowhead": 0,
                      "arrowwidth": 1
                    },
                    "autotypenumbers": "strict",
                    "coloraxis": {
                      "colorbar": {
                        "outlinewidth": 0,
                        "ticks": ""
                      }
                    },
                    "colorscale": {
                      "diverging": [
                        [
                          0,
                          "#8e0152"
                        ],
                        [
                          0.1,
                          "#c51b7d"
                        ],
                        [
                          0.2,
                          "#de77ae"
                        ],
                        [
                          0.3,
                          "#f1b6da"
                        ],
                        [
                          0.4,
                          "#fde0ef"
                        ],
                        [
                          0.5,
                          "#f7f7f7"
                        ],
                        [
                          0.6,
                          "#e6f5d0"
                        ],
                        [
                          0.7,
                          "#b8e186"
                        ],
                        [
                          0.8,
                          "#7fbc41"
                        ],
                        [
                          0.9,
                          "#4d9221"
                        ],
                        [
                          1,
                          "#276419"
                        ]
                      ],
                      "sequential": [
                        [
                          0,
                          "#0d0887"
                        ],
                        [
                          0.1111111111111111,
                          "#46039f"
                        ],
                        [
                          0.2222222222222222,
                          "#7201a8"
                        ],
                        [
                          0.3333333333333333,
                          "#9c179e"
                        ],
                        [
                          0.4444444444444444,
                          "#bd3786"
                        ],
                        [
                          0.5555555555555556,
                          "#d8576b"
                        ],
                        [
                          0.6666666666666666,
                          "#ed7953"
                        ],
                        [
                          0.7777777777777778,
                          "#fb9f3a"
                        ],
                        [
                          0.8888888888888888,
                          "#fdca26"
                        ],
                        [
                          1,
                          "#f0f921"
                        ]
                      ],
                      "sequentialminus": [
                        [
                          0,
                          "#0d0887"
                        ],
                        [
                          0.1111111111111111,
                          "#46039f"
                        ],
                        [
                          0.2222222222222222,
                          "#7201a8"
                        ],
                        [
                          0.3333333333333333,
                          "#9c179e"
                        ],
                        [
                          0.4444444444444444,
                          "#bd3786"
                        ],
                        [
                          0.5555555555555556,
                          "#d8576b"
                        ],
                        [
                          0.6666666666666666,
                          "#ed7953"
                        ],
                        [
                          0.7777777777777778,
                          "#fb9f3a"
                        ],
                        [
                          0.8888888888888888,
                          "#fdca26"
                        ],
                        [
                          1,
                          "#f0f921"
                        ]
                      ]
                    },
                    "colorway": [
                      "#636efa",
                      "#EF553B",
                      "#00cc96",
                      "#ab63fa",
                      "#FFA15A",
                      "#19d3f3",
                      "#FF6692",
                      "#B6E880",
                      "#FF97FF",
                      "#FECB52"
                    ],
                    "font": {
                      "color": "#2a3f5f"
                    },
                    "geo": {
                      "bgcolor": "white",
                      "lakecolor": "white",
                      "landcolor": "#E5ECF6",
                      "showlakes": true,
                      "showland": true,
                      "subunitcolor": "white"
                    },
                    "hoverlabel": {
                      "align": "left"
                    },
                    "hovermode": "closest",
                    "mapbox": {
                      "style": "light"
                    },
                    "paper_bgcolor": "white",
                    "plot_bgcolor": "#E5ECF6",
                    "polar": {
                      "angularaxis": {
                        "gridcolor": "white",
                        "linecolor": "white",
                        "ticks": ""
                      },
                      "bgcolor": "#E5ECF6",
                      "radialaxis": {
                        "gridcolor": "white",
                        "linecolor": "white",
                        "ticks": ""
                      }
                    },
                    "scene": {
                      "xaxis": {
                        "backgroundcolor": "#E5ECF6",
                        "gridcolor": "white",
                        "gridwidth": 2,
                        "linecolor": "white",
                        "showbackground": true,
                        "ticks": "",
                        "zerolinecolor": "white"
                      },
                      "yaxis": {
                        "backgroundcolor": "#E5ECF6",
                        "gridcolor": "white",
                        "gridwidth": 2,
                        "linecolor": "white",
                        "showbackground": true,
                        "ticks": "",
                        "zerolinecolor": "white"
                      },
                      "zaxis": {
                        "backgroundcolor": "#E5ECF6",
                        "gridcolor": "white",
                        "gridwidth": 2,
                        "linecolor": "white",
                        "showbackground": true,
                        "ticks": "",
                        "zerolinecolor": "white"
                      }
                    },
                    "shapedefaults": {
                      "line": {
                        "color": "#2a3f5f"
                      }
                    },
                    "ternary": {
                      "aaxis": {
                        "gridcolor": "white",
                        "linecolor": "white",
                        "ticks": ""
                      },
                      "baxis": {
                        "gridcolor": "white",
                        "linecolor": "white",
                        "ticks": ""
                      },
                      "bgcolor": "#E5ECF6",
                      "caxis": {
                        "gridcolor": "white",
                        "linecolor": "white",
                        "ticks": ""
                      }
                    },
                    "title": {
                      "x": 0.05
                    },
                    "xaxis": {
                      "automargin": true,
                      "gridcolor": "white",
                      "linecolor": "white",
                      "ticks": "",
                      "title": {
                        "standoff": 15
                      },
                      "zerolinecolor": "white",
                      "zerolinewidth": 2
                    },
                    "yaxis": {
                      "automargin": true,
                      "gridcolor": "white",
                      "linecolor": "white",
                      "ticks": "",
                      "title": {
                        "standoff": 15
                      },
                      "zerolinecolor": "white",
                      "zerolinewidth": 2
                    }
                  }
                },
                "title": {
                  "text": "Criação do Grafo Dual"
                },
                "updatemenus": [
                  {
                    "buttons": [
                      {
                        "args": [
                          null,
                          {
                            "frame": {
                              "duration": 800,
                              "redraw": true
                            },
                            "fromcurrent": true,
                            "transition": {
                              "duration": 300,
                              "easing": "cubic-in-out"
                            }
                          }
                        ],
                        "label": "Play",
                        "method": "animate"
                      },
                      {
                        "args": [
                          [
                            null
                          ],
                          {
                            "frame": {
                              "duration": 0,
                              "redraw": false
                            },
                            "mode": "immediate",
                            "transition": {
                              "duration": 0
                            }
                          }
                        ],
                        "label": "Pause",
                        "method": "animate"
                      }
                    ],
                    "type": "buttons"
                  }
                ],
                "xaxis": {
                  "range": [
                    1.0833333333333333,
                    4.916666666666667
                  ],
                  "title": {
                    "text": "Triângulos"
                  }
                },
                "yaxis": {
                  "range": [
                    -3.3333333333333335,
                    9.333333333333334
                  ]
                }
              }
            }
          },
          "metadata": {},
          "output_type": "display_data"
        }
      ],
      "source": [
        "# Função para calcular o centro de um triângulo\n",
        "def centro_triangulo(triangulo):\n",
        "    x = (triangulo[0][0] + triangulo[1][0] + triangulo[2][0]) / 3\n",
        "    y = (triangulo[0][1] + triangulo[1][1] + triangulo[2][1]) / 3\n",
        "    return (x, y)\n",
        "\n",
        "centros = [centro_triangulo(triangulos[i]) for i in range(len(triangulos))]\n",
        "\n",
        "def Criar_grafo_dual_animacao(triangulos, centros):\n",
        "    grafo_dual = {}\n",
        "    frames = []  # Para armazenar os frames da animação\n",
        "\n",
        "    # Dados iniciais para o primeiro frame (grafo vazio)\n",
        "    data = [go.Scatter(\n",
        "        x=[],\n",
        "        y=[],\n",
        "        mode='markers+lines',\n",
        "        marker=dict(size=10),\n",
        "        text=[],\n",
        "        hoverinfo='text',\n",
        "        line=dict(width=2, color='red')\n",
        "    )]\n",
        "    frames.append(go.Frame(data=data, name='Frame 0'))\n",
        "\n",
        "    for i in range(len(triangulos)):\n",
        "        grafo_dual[centros[i]] = []\n",
        "\n",
        "        # Adiciona o novo vértice ao frame\n",
        "        data[0]['x'] = [i[0] for i in grafo_dual.keys()]\n",
        "        data[0]['y'] = [i[1] for i in grafo_dual.keys()]\n",
        "        data[0]['text'] = [f'Triângulo {i}' for i in grafo_dual.keys()]\n",
        "        frames.append(go.Frame(data=data.copy(), name=f'Frame {i}'))\n",
        "\n",
        "        for j in range(len(triangulos)):\n",
        "            if i != j and triangulos_sao_adjacentes(triangulos[i], triangulos[j]):\n",
        "                grafo_dual[centros[i]].append(centros[j])\n",
        "                # Adiciona a nova aresta (i, j) ao frame\n",
        "                frames.append(go.Frame(data=[\n",
        "                    *data,  # Manter os dados existentes\n",
        "                    go.Scatter(\n",
        "                        x=[centros[i][0], centros[j][0]],\n",
        "                        y=[centros[i][1], centros[j][1]],\n",
        "                        mode='lines',\n",
        "                        line=dict(color='blue', width=3)\n",
        "                    )\n",
        "                ], name=f'Frame {i}-{j}'))\n",
        "\n",
        "    return grafo_dual, frames\n",
        "\n",
        "\n",
        "grafo_dual, frames = Criar_grafo_dual_animacao(triangulos, centros)\n",
        "\n",
        "valores_x = [v[0] for v in centros]\n",
        "valores_y = [v[1] for v in centros]\n",
        "min_x, max_x = min(valores_x), max(valores_x)\n",
        "min_y, max_y = min(valores_y), max(valores_y)\n",
        "\n",
        "# Cria o gráfico\n",
        "fig = go.Figure(\n",
        "    data=frames[0].data,  # Começa com os dados do primeiro frame\n",
        "    layout=go.Layout(\n",
        "        title=\"Criação do Grafo Dual\",\n",
        "        xaxis=dict(title=\"Triângulos\", range=[min_x-0.25, max_x+0.25]),\n",
        "        yaxis=dict(range=[-2*min_y, 2*max_y]),\n",
        "        plot_bgcolor='rgba(0,0,0,0)',\n",
        "        updatemenus=[\n",
        "            dict(\n",
        "                type=\"buttons\",\n",
        "                buttons=[\n",
        "                    dict(\n",
        "                        label=\"Play\",\n",
        "                        method=\"animate\",\n",
        "                        args=[None, {\"frame\": {\"duration\": 800, \"redraw\": True},\n",
        "                                     \"fromcurrent\": True, \"transition\": {\"duration\": 300, \"easing\": \"cubic-in-out\"}}]\n",
        "                    ),\n",
        "                    dict(  # Botão de Pause\n",
        "                        label=\"Pause\",\n",
        "                        method=\"animate\",\n",
        "                        args=[[None], {\"frame\": {\"duration\": 0, \"redraw\": False}, \"mode\": \"immediate\",\n",
        "                                       \"transition\": {\"duration\": 0}}]\n",
        "                    )\n",
        "                ]\n",
        "            )\n",
        "        ]\n",
        "    ),\n",
        "    frames=frames\n",
        ")\n",
        "\n",
        "fig.show()"
      ]
    },
    {
      "cell_type": "markdown",
      "metadata": {
        "id": "nj29OwKgE5-v"
      },
      "source": [
        "# Coloração do polígono"
      ]
    },
    {
      "cell_type": "markdown",
      "metadata": {
        "id": "eYuDs_Vye174"
      },
      "source": [
        "A coloração do polígono pode ser feita realizando uma busca em profundidade (DFS) no grafo dual. Assim, a busca se inicia em um vértice arbitrário do dual e colorimos cada vértice do triângulo equivalente com uma cor. Ao visitar o próximo vértice, teremos apenas uma escolha para  a cor do vértice restante do triângulo equivalente, pois os outros dois são compartilhados com o triângulo anterior, obtemos assim uma 3-coloração do polígono."
      ]
    },
    {
      "cell_type": "code",
      "execution_count": 16,
      "metadata": {
        "id": "d_TKHdMIX2Kf"
      },
      "outputs": [],
      "source": [
        "def colorir_vertices_poligono(grafo, triangulo_atual, triangulo_visitados=None, triangulos_coloridos=None):\n",
        "    if triangulo_visitados is None:\n",
        "        triangulo_visitados = set()\n",
        "    triangulo_visitados.add(triangulo_atual)\n",
        "    colorir_vertices_triangulo(triangulos_coloridos[triangulo_atual])\n",
        "    for triangulo_adjacente in grafo[triangulo_atual]:\n",
        "        if triangulo_adjacente not in triangulo_visitados:\n",
        "            atualizar_cores_vertices_triangulos_adjacentes(triangulos_coloridos, triangulo_atual, triangulo_adjacente)\n",
        "            colorir_vertices_poligono(grafo, triangulo_adjacente, triangulo_visitados, triangulos_coloridos)"
      ]
    },
    {
      "cell_type": "code",
      "execution_count": 17,
      "metadata": {
        "id": "rgKzovhIX5eC"
      },
      "outputs": [],
      "source": [
        "def atualizar_cores_vertices_triangulos_adjacentes(triangulos, indice1, indice2):\n",
        "    triangulo1 = triangulos[indice1]\n",
        "    triangulo2 = triangulos[indice2]\n",
        "    vertices_comuns = set(tuple(vertice[0:2]) for vertice in triangulo1) \\\n",
        "        & set(tuple(vertice[0:2]) for vertice in triangulo2)\n",
        "    for vertice in triangulo2:\n",
        "        if tuple(vertice[0:2]) in vertices_comuns and vertice[2] == \"white\":\n",
        "            for v in triangulo1:\n",
        "                if tuple(v[0:2]) == tuple(vertice[0:2]) and v[2] != \"white\":\n",
        "                    vertice[2] = v[2]\n",
        "                    break"
      ]
    },
    {
      "cell_type": "code",
      "execution_count": 18,
      "metadata": {
        "id": "BF835vJ2X8NK"
      },
      "outputs": [],
      "source": [
        "def triangulos_com_vertices_coloridos(triangulos):\n",
        "    triangulos_coloridos = []\n",
        "    for triangulo in triangulos:\n",
        "        triangulo_colorido = []\n",
        "        for vertice in triangulo:\n",
        "            vertice_colorido = [*vertice, \"white\"]\n",
        "            triangulo_colorido.append(vertice_colorido)\n",
        "        triangulos_coloridos.append(triangulo_colorido)\n",
        "    return triangulos_coloridos"
      ]
    },
    {
      "cell_type": "code",
      "execution_count": 19,
      "metadata": {
        "id": "aVZ3tgbfYCbh"
      },
      "outputs": [],
      "source": [
        "def colorir_vertices_triangulo(triangle):\n",
        "    cores = {\"red\", \"blue\", \"green\"}\n",
        "    vertices_coloridos = set(vertice[2] for vertice in triangle)\n",
        "    cor_faltante = cores.difference(vertices_coloridos).pop()\n",
        "    for vertice in triangle:\n",
        "        if vertice[2] == \"white\":\n",
        "            vertice[2] = cor_faltante\n",
        "            break"
      ]
    },
    {
      "cell_type": "code",
      "execution_count": 20,
      "metadata": {
        "id": "3_bKPxtLYThi"
      },
      "outputs": [],
      "source": [
        "triangulos_com_cores = triangulos_com_vertices_coloridos(triangulos)\n",
        "triangulos_com_cores[0][0][2] = \"red\"\n",
        "triangulos_com_cores[0][1][2] = \"blue\"\n",
        "grafo_dual = Criar_grafo_dual(triangulos)"
      ]
    },
    {
      "cell_type": "markdown",
      "metadata": {
        "id": "Xc-YOAXqFEke"
      },
      "source": [
        "# Visualização do passo a passo da coloração do polígono"
      ]
    },
    {
      "cell_type": "code",
      "execution_count": 21,
      "metadata": {
        "colab": {
          "base_uri": "https://localhost:8080/",
          "height": 542
        },
        "id": "cXblZhfiWXoN",
        "outputId": "943612e3-e3f9-40fc-93f6-04ef28c99163"
      },
      "outputs": [
        {
          "data": {
            "application/vnd.plotly.v1+json": {
              "config": {
                "plotlyServerURL": "https://plot.ly"
              },
              "data": [
                {
                  "line": {
                    "color": "black"
                  },
                  "marker": {
                    "color": [
                      "red",
                      "blue",
                      "white",
                      "red"
                    ],
                    "size": 10
                  },
                  "mode": "lines+markers",
                  "textposition": "top center",
                  "type": "scatter",
                  "x": [
                    1,
                    1,
                    2,
                    1
                  ],
                  "y": [
                    3,
                    1,
                    1,
                    3
                  ]
                },
                {
                  "line": {
                    "color": "black"
                  },
                  "marker": {
                    "color": [
                      "white",
                      "white",
                      "white",
                      "white"
                    ],
                    "size": 10
                  },
                  "mode": "lines+markers",
                  "textposition": "top center",
                  "type": "scatter",
                  "x": [
                    1,
                    2,
                    2,
                    1
                  ],
                  "y": [
                    3,
                    1,
                    2,
                    3
                  ]
                },
                {
                  "line": {
                    "color": "black"
                  },
                  "marker": {
                    "color": [
                      "white",
                      "white",
                      "white",
                      "white"
                    ],
                    "size": 10
                  },
                  "mode": "lines+markers",
                  "textposition": "top center",
                  "type": "scatter",
                  "x": [
                    1,
                    2,
                    4,
                    1
                  ],
                  "y": [
                    3,
                    2,
                    2,
                    3
                  ]
                },
                {
                  "line": {
                    "color": "black"
                  },
                  "marker": {
                    "color": [
                      "white",
                      "white",
                      "white",
                      "white"
                    ],
                    "size": 10
                  },
                  "mode": "lines+markers",
                  "textposition": "top center",
                  "type": "scatter",
                  "x": [
                    4,
                    5,
                    5,
                    4
                  ],
                  "y": [
                    4,
                    4,
                    5,
                    4
                  ]
                },
                {
                  "line": {
                    "color": "black"
                  },
                  "marker": {
                    "color": [
                      "white",
                      "white",
                      "white",
                      "white"
                    ],
                    "size": 10
                  },
                  "mode": "lines+markers",
                  "textposition": "top center",
                  "type": "scatter",
                  "x": [
                    4,
                    5,
                    3,
                    4
                  ],
                  "y": [
                    4,
                    5,
                    5,
                    4
                  ]
                },
                {
                  "line": {
                    "color": "black"
                  },
                  "marker": {
                    "color": [
                      "white",
                      "white",
                      "white",
                      "white"
                    ],
                    "size": 10
                  },
                  "mode": "lines+markers",
                  "textposition": "top center",
                  "type": "scatter",
                  "x": [
                    4,
                    4,
                    3,
                    4
                  ],
                  "y": [
                    2,
                    4,
                    5,
                    2
                  ]
                },
                {
                  "line": {
                    "color": "black"
                  },
                  "marker": {
                    "color": [
                      "white",
                      "white",
                      "white",
                      "white"
                    ],
                    "size": 10
                  },
                  "mode": "lines+markers",
                  "textposition": "top center",
                  "type": "scatter",
                  "x": [
                    4,
                    3,
                    3,
                    4
                  ],
                  "y": [
                    2,
                    5,
                    3,
                    2
                  ]
                },
                {
                  "line": {
                    "color": "black"
                  },
                  "marker": {
                    "color": [
                      "white",
                      "white",
                      "white",
                      "white"
                    ],
                    "size": 10
                  },
                  "mode": "lines+markers",
                  "textposition": "top center",
                  "type": "scatter",
                  "x": [
                    1,
                    4,
                    3,
                    1
                  ],
                  "y": [
                    3,
                    2,
                    3,
                    3
                  ]
                }
              ],
              "frames": [
                {
                  "data": [
                    {
                      "line": {
                        "color": "black"
                      },
                      "marker": {
                        "color": [
                          "red",
                          "blue",
                          "white",
                          "red"
                        ],
                        "size": 10
                      },
                      "mode": "lines+markers",
                      "textposition": "top center",
                      "type": "scatter",
                      "x": [
                        1,
                        1,
                        2,
                        1
                      ],
                      "y": [
                        3,
                        1,
                        1,
                        3
                      ]
                    },
                    {
                      "line": {
                        "color": "black"
                      },
                      "marker": {
                        "color": [
                          "white",
                          "white",
                          "white",
                          "white"
                        ],
                        "size": 10
                      },
                      "mode": "lines+markers",
                      "textposition": "top center",
                      "type": "scatter",
                      "x": [
                        1,
                        2,
                        2,
                        1
                      ],
                      "y": [
                        3,
                        1,
                        2,
                        3
                      ]
                    },
                    {
                      "line": {
                        "color": "black"
                      },
                      "marker": {
                        "color": [
                          "white",
                          "white",
                          "white",
                          "white"
                        ],
                        "size": 10
                      },
                      "mode": "lines+markers",
                      "textposition": "top center",
                      "type": "scatter",
                      "x": [
                        1,
                        2,
                        4,
                        1
                      ],
                      "y": [
                        3,
                        2,
                        2,
                        3
                      ]
                    },
                    {
                      "line": {
                        "color": "black"
                      },
                      "marker": {
                        "color": [
                          "white",
                          "white",
                          "white",
                          "white"
                        ],
                        "size": 10
                      },
                      "mode": "lines+markers",
                      "textposition": "top center",
                      "type": "scatter",
                      "x": [
                        4,
                        5,
                        5,
                        4
                      ],
                      "y": [
                        4,
                        4,
                        5,
                        4
                      ]
                    },
                    {
                      "line": {
                        "color": "black"
                      },
                      "marker": {
                        "color": [
                          "white",
                          "white",
                          "white",
                          "white"
                        ],
                        "size": 10
                      },
                      "mode": "lines+markers",
                      "textposition": "top center",
                      "type": "scatter",
                      "x": [
                        4,
                        5,
                        3,
                        4
                      ],
                      "y": [
                        4,
                        5,
                        5,
                        4
                      ]
                    },
                    {
                      "line": {
                        "color": "black"
                      },
                      "marker": {
                        "color": [
                          "white",
                          "white",
                          "white",
                          "white"
                        ],
                        "size": 10
                      },
                      "mode": "lines+markers",
                      "textposition": "top center",
                      "type": "scatter",
                      "x": [
                        4,
                        4,
                        3,
                        4
                      ],
                      "y": [
                        2,
                        4,
                        5,
                        2
                      ]
                    },
                    {
                      "line": {
                        "color": "black"
                      },
                      "marker": {
                        "color": [
                          "white",
                          "white",
                          "white",
                          "white"
                        ],
                        "size": 10
                      },
                      "mode": "lines+markers",
                      "textposition": "top center",
                      "type": "scatter",
                      "x": [
                        4,
                        3,
                        3,
                        4
                      ],
                      "y": [
                        2,
                        5,
                        3,
                        2
                      ]
                    },
                    {
                      "line": {
                        "color": "black"
                      },
                      "marker": {
                        "color": [
                          "white",
                          "white",
                          "white",
                          "white"
                        ],
                        "size": 10
                      },
                      "mode": "lines+markers",
                      "textposition": "top center",
                      "type": "scatter",
                      "x": [
                        1,
                        4,
                        3,
                        1
                      ],
                      "y": [
                        3,
                        2,
                        3,
                        3
                      ]
                    }
                  ]
                },
                {
                  "data": [
                    {
                      "line": {
                        "color": "black"
                      },
                      "marker": {
                        "color": [
                          "red",
                          "blue",
                          "green",
                          "red"
                        ],
                        "size": 10
                      },
                      "mode": "lines+markers",
                      "textposition": "top center",
                      "type": "scatter",
                      "x": [
                        1,
                        1,
                        2,
                        1
                      ],
                      "y": [
                        3,
                        1,
                        1,
                        3
                      ]
                    },
                    {
                      "line": {
                        "color": "black"
                      },
                      "marker": {
                        "color": [
                          "red",
                          "green",
                          "white",
                          "red"
                        ],
                        "size": 10
                      },
                      "mode": "lines+markers",
                      "textposition": "top center",
                      "type": "scatter",
                      "x": [
                        1,
                        2,
                        2,
                        1
                      ],
                      "y": [
                        3,
                        1,
                        2,
                        3
                      ]
                    },
                    {
                      "line": {
                        "color": "black"
                      },
                      "marker": {
                        "color": [
                          "white",
                          "white",
                          "white",
                          "white"
                        ],
                        "size": 10
                      },
                      "mode": "lines+markers",
                      "textposition": "top center",
                      "type": "scatter",
                      "x": [
                        1,
                        2,
                        4,
                        1
                      ],
                      "y": [
                        3,
                        2,
                        2,
                        3
                      ]
                    },
                    {
                      "line": {
                        "color": "black"
                      },
                      "marker": {
                        "color": [
                          "white",
                          "white",
                          "white",
                          "white"
                        ],
                        "size": 10
                      },
                      "mode": "lines+markers",
                      "textposition": "top center",
                      "type": "scatter",
                      "x": [
                        4,
                        5,
                        5,
                        4
                      ],
                      "y": [
                        4,
                        4,
                        5,
                        4
                      ]
                    },
                    {
                      "line": {
                        "color": "black"
                      },
                      "marker": {
                        "color": [
                          "white",
                          "white",
                          "white",
                          "white"
                        ],
                        "size": 10
                      },
                      "mode": "lines+markers",
                      "textposition": "top center",
                      "type": "scatter",
                      "x": [
                        4,
                        5,
                        3,
                        4
                      ],
                      "y": [
                        4,
                        5,
                        5,
                        4
                      ]
                    },
                    {
                      "line": {
                        "color": "black"
                      },
                      "marker": {
                        "color": [
                          "white",
                          "white",
                          "white",
                          "white"
                        ],
                        "size": 10
                      },
                      "mode": "lines+markers",
                      "textposition": "top center",
                      "type": "scatter",
                      "x": [
                        4,
                        4,
                        3,
                        4
                      ],
                      "y": [
                        2,
                        4,
                        5,
                        2
                      ]
                    },
                    {
                      "line": {
                        "color": "black"
                      },
                      "marker": {
                        "color": [
                          "white",
                          "white",
                          "white",
                          "white"
                        ],
                        "size": 10
                      },
                      "mode": "lines+markers",
                      "textposition": "top center",
                      "type": "scatter",
                      "x": [
                        4,
                        3,
                        3,
                        4
                      ],
                      "y": [
                        2,
                        5,
                        3,
                        2
                      ]
                    },
                    {
                      "line": {
                        "color": "black"
                      },
                      "marker": {
                        "color": [
                          "white",
                          "white",
                          "white",
                          "white"
                        ],
                        "size": 10
                      },
                      "mode": "lines+markers",
                      "textposition": "top center",
                      "type": "scatter",
                      "x": [
                        1,
                        4,
                        3,
                        1
                      ],
                      "y": [
                        3,
                        2,
                        3,
                        3
                      ]
                    }
                  ]
                },
                {
                  "data": [
                    {
                      "line": {
                        "color": "black"
                      },
                      "marker": {
                        "color": [
                          "red",
                          "blue",
                          "green",
                          "red"
                        ],
                        "size": 10
                      },
                      "mode": "lines+markers",
                      "textposition": "top center",
                      "type": "scatter",
                      "x": [
                        1,
                        1,
                        2,
                        1
                      ],
                      "y": [
                        3,
                        1,
                        1,
                        3
                      ]
                    },
                    {
                      "line": {
                        "color": "black"
                      },
                      "marker": {
                        "color": [
                          "red",
                          "green",
                          "blue",
                          "red"
                        ],
                        "size": 10
                      },
                      "mode": "lines+markers",
                      "textposition": "top center",
                      "type": "scatter",
                      "x": [
                        1,
                        2,
                        2,
                        1
                      ],
                      "y": [
                        3,
                        1,
                        2,
                        3
                      ]
                    },
                    {
                      "line": {
                        "color": "black"
                      },
                      "marker": {
                        "color": [
                          "red",
                          "blue",
                          "white",
                          "red"
                        ],
                        "size": 10
                      },
                      "mode": "lines+markers",
                      "textposition": "top center",
                      "type": "scatter",
                      "x": [
                        1,
                        2,
                        4,
                        1
                      ],
                      "y": [
                        3,
                        2,
                        2,
                        3
                      ]
                    },
                    {
                      "line": {
                        "color": "black"
                      },
                      "marker": {
                        "color": [
                          "white",
                          "white",
                          "white",
                          "white"
                        ],
                        "size": 10
                      },
                      "mode": "lines+markers",
                      "textposition": "top center",
                      "type": "scatter",
                      "x": [
                        4,
                        5,
                        5,
                        4
                      ],
                      "y": [
                        4,
                        4,
                        5,
                        4
                      ]
                    },
                    {
                      "line": {
                        "color": "black"
                      },
                      "marker": {
                        "color": [
                          "white",
                          "white",
                          "white",
                          "white"
                        ],
                        "size": 10
                      },
                      "mode": "lines+markers",
                      "textposition": "top center",
                      "type": "scatter",
                      "x": [
                        4,
                        5,
                        3,
                        4
                      ],
                      "y": [
                        4,
                        5,
                        5,
                        4
                      ]
                    },
                    {
                      "line": {
                        "color": "black"
                      },
                      "marker": {
                        "color": [
                          "white",
                          "white",
                          "white",
                          "white"
                        ],
                        "size": 10
                      },
                      "mode": "lines+markers",
                      "textposition": "top center",
                      "type": "scatter",
                      "x": [
                        4,
                        4,
                        3,
                        4
                      ],
                      "y": [
                        2,
                        4,
                        5,
                        2
                      ]
                    },
                    {
                      "line": {
                        "color": "black"
                      },
                      "marker": {
                        "color": [
                          "white",
                          "white",
                          "white",
                          "white"
                        ],
                        "size": 10
                      },
                      "mode": "lines+markers",
                      "textposition": "top center",
                      "type": "scatter",
                      "x": [
                        4,
                        3,
                        3,
                        4
                      ],
                      "y": [
                        2,
                        5,
                        3,
                        2
                      ]
                    },
                    {
                      "line": {
                        "color": "black"
                      },
                      "marker": {
                        "color": [
                          "white",
                          "white",
                          "white",
                          "white"
                        ],
                        "size": 10
                      },
                      "mode": "lines+markers",
                      "textposition": "top center",
                      "type": "scatter",
                      "x": [
                        1,
                        4,
                        3,
                        1
                      ],
                      "y": [
                        3,
                        2,
                        3,
                        3
                      ]
                    }
                  ]
                },
                {
                  "data": [
                    {
                      "line": {
                        "color": "black"
                      },
                      "marker": {
                        "color": [
                          "red",
                          "blue",
                          "green",
                          "red"
                        ],
                        "size": 10
                      },
                      "mode": "lines+markers",
                      "textposition": "top center",
                      "type": "scatter",
                      "x": [
                        1,
                        1,
                        2,
                        1
                      ],
                      "y": [
                        3,
                        1,
                        1,
                        3
                      ]
                    },
                    {
                      "line": {
                        "color": "black"
                      },
                      "marker": {
                        "color": [
                          "red",
                          "green",
                          "blue",
                          "red"
                        ],
                        "size": 10
                      },
                      "mode": "lines+markers",
                      "textposition": "top center",
                      "type": "scatter",
                      "x": [
                        1,
                        2,
                        2,
                        1
                      ],
                      "y": [
                        3,
                        1,
                        2,
                        3
                      ]
                    },
                    {
                      "line": {
                        "color": "black"
                      },
                      "marker": {
                        "color": [
                          "red",
                          "blue",
                          "green",
                          "red"
                        ],
                        "size": 10
                      },
                      "mode": "lines+markers",
                      "textposition": "top center",
                      "type": "scatter",
                      "x": [
                        1,
                        2,
                        4,
                        1
                      ],
                      "y": [
                        3,
                        2,
                        2,
                        3
                      ]
                    },
                    {
                      "line": {
                        "color": "black"
                      },
                      "marker": {
                        "color": [
                          "white",
                          "white",
                          "white",
                          "white"
                        ],
                        "size": 10
                      },
                      "mode": "lines+markers",
                      "textposition": "top center",
                      "type": "scatter",
                      "x": [
                        4,
                        5,
                        5,
                        4
                      ],
                      "y": [
                        4,
                        4,
                        5,
                        4
                      ]
                    },
                    {
                      "line": {
                        "color": "black"
                      },
                      "marker": {
                        "color": [
                          "white",
                          "white",
                          "white",
                          "white"
                        ],
                        "size": 10
                      },
                      "mode": "lines+markers",
                      "textposition": "top center",
                      "type": "scatter",
                      "x": [
                        4,
                        5,
                        3,
                        4
                      ],
                      "y": [
                        4,
                        5,
                        5,
                        4
                      ]
                    },
                    {
                      "line": {
                        "color": "black"
                      },
                      "marker": {
                        "color": [
                          "white",
                          "white",
                          "white",
                          "white"
                        ],
                        "size": 10
                      },
                      "mode": "lines+markers",
                      "textposition": "top center",
                      "type": "scatter",
                      "x": [
                        4,
                        4,
                        3,
                        4
                      ],
                      "y": [
                        2,
                        4,
                        5,
                        2
                      ]
                    },
                    {
                      "line": {
                        "color": "black"
                      },
                      "marker": {
                        "color": [
                          "white",
                          "white",
                          "white",
                          "white"
                        ],
                        "size": 10
                      },
                      "mode": "lines+markers",
                      "textposition": "top center",
                      "type": "scatter",
                      "x": [
                        4,
                        3,
                        3,
                        4
                      ],
                      "y": [
                        2,
                        5,
                        3,
                        2
                      ]
                    },
                    {
                      "line": {
                        "color": "black"
                      },
                      "marker": {
                        "color": [
                          "red",
                          "green",
                          "white",
                          "red"
                        ],
                        "size": 10
                      },
                      "mode": "lines+markers",
                      "textposition": "top center",
                      "type": "scatter",
                      "x": [
                        1,
                        4,
                        3,
                        1
                      ],
                      "y": [
                        3,
                        2,
                        3,
                        3
                      ]
                    }
                  ]
                },
                {
                  "data": [
                    {
                      "line": {
                        "color": "black"
                      },
                      "marker": {
                        "color": [
                          "red",
                          "blue",
                          "green",
                          "red"
                        ],
                        "size": 10
                      },
                      "mode": "lines+markers",
                      "textposition": "top center",
                      "type": "scatter",
                      "x": [
                        1,
                        1,
                        2,
                        1
                      ],
                      "y": [
                        3,
                        1,
                        1,
                        3
                      ]
                    },
                    {
                      "line": {
                        "color": "black"
                      },
                      "marker": {
                        "color": [
                          "red",
                          "green",
                          "blue",
                          "red"
                        ],
                        "size": 10
                      },
                      "mode": "lines+markers",
                      "textposition": "top center",
                      "type": "scatter",
                      "x": [
                        1,
                        2,
                        2,
                        1
                      ],
                      "y": [
                        3,
                        1,
                        2,
                        3
                      ]
                    },
                    {
                      "line": {
                        "color": "black"
                      },
                      "marker": {
                        "color": [
                          "red",
                          "blue",
                          "green",
                          "red"
                        ],
                        "size": 10
                      },
                      "mode": "lines+markers",
                      "textposition": "top center",
                      "type": "scatter",
                      "x": [
                        1,
                        2,
                        4,
                        1
                      ],
                      "y": [
                        3,
                        2,
                        2,
                        3
                      ]
                    },
                    {
                      "line": {
                        "color": "black"
                      },
                      "marker": {
                        "color": [
                          "white",
                          "white",
                          "white",
                          "white"
                        ],
                        "size": 10
                      },
                      "mode": "lines+markers",
                      "textposition": "top center",
                      "type": "scatter",
                      "x": [
                        4,
                        5,
                        5,
                        4
                      ],
                      "y": [
                        4,
                        4,
                        5,
                        4
                      ]
                    },
                    {
                      "line": {
                        "color": "black"
                      },
                      "marker": {
                        "color": [
                          "white",
                          "white",
                          "white",
                          "white"
                        ],
                        "size": 10
                      },
                      "mode": "lines+markers",
                      "textposition": "top center",
                      "type": "scatter",
                      "x": [
                        4,
                        5,
                        3,
                        4
                      ],
                      "y": [
                        4,
                        5,
                        5,
                        4
                      ]
                    },
                    {
                      "line": {
                        "color": "black"
                      },
                      "marker": {
                        "color": [
                          "white",
                          "white",
                          "white",
                          "white"
                        ],
                        "size": 10
                      },
                      "mode": "lines+markers",
                      "textposition": "top center",
                      "type": "scatter",
                      "x": [
                        4,
                        4,
                        3,
                        4
                      ],
                      "y": [
                        2,
                        4,
                        5,
                        2
                      ]
                    },
                    {
                      "line": {
                        "color": "black"
                      },
                      "marker": {
                        "color": [
                          "green",
                          "white",
                          "blue",
                          "green"
                        ],
                        "size": 10
                      },
                      "mode": "lines+markers",
                      "textposition": "top center",
                      "type": "scatter",
                      "x": [
                        4,
                        3,
                        3,
                        4
                      ],
                      "y": [
                        2,
                        5,
                        3,
                        2
                      ]
                    },
                    {
                      "line": {
                        "color": "black"
                      },
                      "marker": {
                        "color": [
                          "red",
                          "green",
                          "blue",
                          "red"
                        ],
                        "size": 10
                      },
                      "mode": "lines+markers",
                      "textposition": "top center",
                      "type": "scatter",
                      "x": [
                        1,
                        4,
                        3,
                        1
                      ],
                      "y": [
                        3,
                        2,
                        3,
                        3
                      ]
                    }
                  ]
                },
                {
                  "data": [
                    {
                      "line": {
                        "color": "black"
                      },
                      "marker": {
                        "color": [
                          "red",
                          "blue",
                          "green",
                          "red"
                        ],
                        "size": 10
                      },
                      "mode": "lines+markers",
                      "textposition": "top center",
                      "type": "scatter",
                      "x": [
                        1,
                        1,
                        2,
                        1
                      ],
                      "y": [
                        3,
                        1,
                        1,
                        3
                      ]
                    },
                    {
                      "line": {
                        "color": "black"
                      },
                      "marker": {
                        "color": [
                          "red",
                          "green",
                          "blue",
                          "red"
                        ],
                        "size": 10
                      },
                      "mode": "lines+markers",
                      "textposition": "top center",
                      "type": "scatter",
                      "x": [
                        1,
                        2,
                        2,
                        1
                      ],
                      "y": [
                        3,
                        1,
                        2,
                        3
                      ]
                    },
                    {
                      "line": {
                        "color": "black"
                      },
                      "marker": {
                        "color": [
                          "red",
                          "blue",
                          "green",
                          "red"
                        ],
                        "size": 10
                      },
                      "mode": "lines+markers",
                      "textposition": "top center",
                      "type": "scatter",
                      "x": [
                        1,
                        2,
                        4,
                        1
                      ],
                      "y": [
                        3,
                        2,
                        2,
                        3
                      ]
                    },
                    {
                      "line": {
                        "color": "black"
                      },
                      "marker": {
                        "color": [
                          "white",
                          "white",
                          "white",
                          "white"
                        ],
                        "size": 10
                      },
                      "mode": "lines+markers",
                      "textposition": "top center",
                      "type": "scatter",
                      "x": [
                        4,
                        5,
                        5,
                        4
                      ],
                      "y": [
                        4,
                        4,
                        5,
                        4
                      ]
                    },
                    {
                      "line": {
                        "color": "black"
                      },
                      "marker": {
                        "color": [
                          "white",
                          "white",
                          "white",
                          "white"
                        ],
                        "size": 10
                      },
                      "mode": "lines+markers",
                      "textposition": "top center",
                      "type": "scatter",
                      "x": [
                        4,
                        5,
                        3,
                        4
                      ],
                      "y": [
                        4,
                        5,
                        5,
                        4
                      ]
                    },
                    {
                      "line": {
                        "color": "black"
                      },
                      "marker": {
                        "color": [
                          "green",
                          "white",
                          "red",
                          "green"
                        ],
                        "size": 10
                      },
                      "mode": "lines+markers",
                      "textposition": "top center",
                      "type": "scatter",
                      "x": [
                        4,
                        4,
                        3,
                        4
                      ],
                      "y": [
                        2,
                        4,
                        5,
                        2
                      ]
                    },
                    {
                      "line": {
                        "color": "black"
                      },
                      "marker": {
                        "color": [
                          "green",
                          "red",
                          "blue",
                          "green"
                        ],
                        "size": 10
                      },
                      "mode": "lines+markers",
                      "textposition": "top center",
                      "type": "scatter",
                      "x": [
                        4,
                        3,
                        3,
                        4
                      ],
                      "y": [
                        2,
                        5,
                        3,
                        2
                      ]
                    },
                    {
                      "line": {
                        "color": "black"
                      },
                      "marker": {
                        "color": [
                          "red",
                          "green",
                          "blue",
                          "red"
                        ],
                        "size": 10
                      },
                      "mode": "lines+markers",
                      "textposition": "top center",
                      "type": "scatter",
                      "x": [
                        1,
                        4,
                        3,
                        1
                      ],
                      "y": [
                        3,
                        2,
                        3,
                        3
                      ]
                    }
                  ]
                },
                {
                  "data": [
                    {
                      "line": {
                        "color": "black"
                      },
                      "marker": {
                        "color": [
                          "red",
                          "blue",
                          "green",
                          "red"
                        ],
                        "size": 10
                      },
                      "mode": "lines+markers",
                      "textposition": "top center",
                      "type": "scatter",
                      "x": [
                        1,
                        1,
                        2,
                        1
                      ],
                      "y": [
                        3,
                        1,
                        1,
                        3
                      ]
                    },
                    {
                      "line": {
                        "color": "black"
                      },
                      "marker": {
                        "color": [
                          "red",
                          "green",
                          "blue",
                          "red"
                        ],
                        "size": 10
                      },
                      "mode": "lines+markers",
                      "textposition": "top center",
                      "type": "scatter",
                      "x": [
                        1,
                        2,
                        2,
                        1
                      ],
                      "y": [
                        3,
                        1,
                        2,
                        3
                      ]
                    },
                    {
                      "line": {
                        "color": "black"
                      },
                      "marker": {
                        "color": [
                          "red",
                          "blue",
                          "green",
                          "red"
                        ],
                        "size": 10
                      },
                      "mode": "lines+markers",
                      "textposition": "top center",
                      "type": "scatter",
                      "x": [
                        1,
                        2,
                        4,
                        1
                      ],
                      "y": [
                        3,
                        2,
                        2,
                        3
                      ]
                    },
                    {
                      "line": {
                        "color": "black"
                      },
                      "marker": {
                        "color": [
                          "white",
                          "white",
                          "white",
                          "white"
                        ],
                        "size": 10
                      },
                      "mode": "lines+markers",
                      "textposition": "top center",
                      "type": "scatter",
                      "x": [
                        4,
                        5,
                        5,
                        4
                      ],
                      "y": [
                        4,
                        4,
                        5,
                        4
                      ]
                    },
                    {
                      "line": {
                        "color": "black"
                      },
                      "marker": {
                        "color": [
                          "blue",
                          "white",
                          "red",
                          "blue"
                        ],
                        "size": 10
                      },
                      "mode": "lines+markers",
                      "textposition": "top center",
                      "type": "scatter",
                      "x": [
                        4,
                        5,
                        3,
                        4
                      ],
                      "y": [
                        4,
                        5,
                        5,
                        4
                      ]
                    },
                    {
                      "line": {
                        "color": "black"
                      },
                      "marker": {
                        "color": [
                          "green",
                          "blue",
                          "red",
                          "green"
                        ],
                        "size": 10
                      },
                      "mode": "lines+markers",
                      "textposition": "top center",
                      "type": "scatter",
                      "x": [
                        4,
                        4,
                        3,
                        4
                      ],
                      "y": [
                        2,
                        4,
                        5,
                        2
                      ]
                    },
                    {
                      "line": {
                        "color": "black"
                      },
                      "marker": {
                        "color": [
                          "green",
                          "red",
                          "blue",
                          "green"
                        ],
                        "size": 10
                      },
                      "mode": "lines+markers",
                      "textposition": "top center",
                      "type": "scatter",
                      "x": [
                        4,
                        3,
                        3,
                        4
                      ],
                      "y": [
                        2,
                        5,
                        3,
                        2
                      ]
                    },
                    {
                      "line": {
                        "color": "black"
                      },
                      "marker": {
                        "color": [
                          "red",
                          "green",
                          "blue",
                          "red"
                        ],
                        "size": 10
                      },
                      "mode": "lines+markers",
                      "textposition": "top center",
                      "type": "scatter",
                      "x": [
                        1,
                        4,
                        3,
                        1
                      ],
                      "y": [
                        3,
                        2,
                        3,
                        3
                      ]
                    }
                  ]
                },
                {
                  "data": [
                    {
                      "line": {
                        "color": "black"
                      },
                      "marker": {
                        "color": [
                          "red",
                          "blue",
                          "green",
                          "red"
                        ],
                        "size": 10
                      },
                      "mode": "lines+markers",
                      "textposition": "top center",
                      "type": "scatter",
                      "x": [
                        1,
                        1,
                        2,
                        1
                      ],
                      "y": [
                        3,
                        1,
                        1,
                        3
                      ]
                    },
                    {
                      "line": {
                        "color": "black"
                      },
                      "marker": {
                        "color": [
                          "red",
                          "green",
                          "blue",
                          "red"
                        ],
                        "size": 10
                      },
                      "mode": "lines+markers",
                      "textposition": "top center",
                      "type": "scatter",
                      "x": [
                        1,
                        2,
                        2,
                        1
                      ],
                      "y": [
                        3,
                        1,
                        2,
                        3
                      ]
                    },
                    {
                      "line": {
                        "color": "black"
                      },
                      "marker": {
                        "color": [
                          "red",
                          "blue",
                          "green",
                          "red"
                        ],
                        "size": 10
                      },
                      "mode": "lines+markers",
                      "textposition": "top center",
                      "type": "scatter",
                      "x": [
                        1,
                        2,
                        4,
                        1
                      ],
                      "y": [
                        3,
                        2,
                        2,
                        3
                      ]
                    },
                    {
                      "line": {
                        "color": "black"
                      },
                      "marker": {
                        "color": [
                          "blue",
                          "white",
                          "green",
                          "blue"
                        ],
                        "size": 10
                      },
                      "mode": "lines+markers",
                      "textposition": "top center",
                      "type": "scatter",
                      "x": [
                        4,
                        5,
                        5,
                        4
                      ],
                      "y": [
                        4,
                        4,
                        5,
                        4
                      ]
                    },
                    {
                      "line": {
                        "color": "black"
                      },
                      "marker": {
                        "color": [
                          "blue",
                          "green",
                          "red",
                          "blue"
                        ],
                        "size": 10
                      },
                      "mode": "lines+markers",
                      "textposition": "top center",
                      "type": "scatter",
                      "x": [
                        4,
                        5,
                        3,
                        4
                      ],
                      "y": [
                        4,
                        5,
                        5,
                        4
                      ]
                    },
                    {
                      "line": {
                        "color": "black"
                      },
                      "marker": {
                        "color": [
                          "green",
                          "blue",
                          "red",
                          "green"
                        ],
                        "size": 10
                      },
                      "mode": "lines+markers",
                      "textposition": "top center",
                      "type": "scatter",
                      "x": [
                        4,
                        4,
                        3,
                        4
                      ],
                      "y": [
                        2,
                        4,
                        5,
                        2
                      ]
                    },
                    {
                      "line": {
                        "color": "black"
                      },
                      "marker": {
                        "color": [
                          "green",
                          "red",
                          "blue",
                          "green"
                        ],
                        "size": 10
                      },
                      "mode": "lines+markers",
                      "textposition": "top center",
                      "type": "scatter",
                      "x": [
                        4,
                        3,
                        3,
                        4
                      ],
                      "y": [
                        2,
                        5,
                        3,
                        2
                      ]
                    },
                    {
                      "line": {
                        "color": "black"
                      },
                      "marker": {
                        "color": [
                          "red",
                          "green",
                          "blue",
                          "red"
                        ],
                        "size": 10
                      },
                      "mode": "lines+markers",
                      "textposition": "top center",
                      "type": "scatter",
                      "x": [
                        1,
                        4,
                        3,
                        1
                      ],
                      "y": [
                        3,
                        2,
                        3,
                        3
                      ]
                    }
                  ]
                },
                {
                  "data": [
                    {
                      "line": {
                        "color": "black"
                      },
                      "marker": {
                        "color": [
                          "red",
                          "blue",
                          "green",
                          "red"
                        ],
                        "size": 10
                      },
                      "mode": "lines+markers",
                      "textposition": "top center",
                      "type": "scatter",
                      "x": [
                        1,
                        1,
                        2,
                        1
                      ],
                      "y": [
                        3,
                        1,
                        1,
                        3
                      ]
                    },
                    {
                      "line": {
                        "color": "black"
                      },
                      "marker": {
                        "color": [
                          "red",
                          "green",
                          "blue",
                          "red"
                        ],
                        "size": 10
                      },
                      "mode": "lines+markers",
                      "textposition": "top center",
                      "type": "scatter",
                      "x": [
                        1,
                        2,
                        2,
                        1
                      ],
                      "y": [
                        3,
                        1,
                        2,
                        3
                      ]
                    },
                    {
                      "line": {
                        "color": "black"
                      },
                      "marker": {
                        "color": [
                          "red",
                          "blue",
                          "green",
                          "red"
                        ],
                        "size": 10
                      },
                      "mode": "lines+markers",
                      "textposition": "top center",
                      "type": "scatter",
                      "x": [
                        1,
                        2,
                        4,
                        1
                      ],
                      "y": [
                        3,
                        2,
                        2,
                        3
                      ]
                    },
                    {
                      "line": {
                        "color": "black"
                      },
                      "marker": {
                        "color": [
                          "blue",
                          "red",
                          "green",
                          "blue"
                        ],
                        "size": 10
                      },
                      "mode": "lines+markers",
                      "textposition": "top center",
                      "type": "scatter",
                      "x": [
                        4,
                        5,
                        5,
                        4
                      ],
                      "y": [
                        4,
                        4,
                        5,
                        4
                      ]
                    },
                    {
                      "line": {
                        "color": "black"
                      },
                      "marker": {
                        "color": [
                          "blue",
                          "green",
                          "red",
                          "blue"
                        ],
                        "size": 10
                      },
                      "mode": "lines+markers",
                      "textposition": "top center",
                      "type": "scatter",
                      "x": [
                        4,
                        5,
                        3,
                        4
                      ],
                      "y": [
                        4,
                        5,
                        5,
                        4
                      ]
                    },
                    {
                      "line": {
                        "color": "black"
                      },
                      "marker": {
                        "color": [
                          "green",
                          "blue",
                          "red",
                          "green"
                        ],
                        "size": 10
                      },
                      "mode": "lines+markers",
                      "textposition": "top center",
                      "type": "scatter",
                      "x": [
                        4,
                        4,
                        3,
                        4
                      ],
                      "y": [
                        2,
                        4,
                        5,
                        2
                      ]
                    },
                    {
                      "line": {
                        "color": "black"
                      },
                      "marker": {
                        "color": [
                          "green",
                          "red",
                          "blue",
                          "green"
                        ],
                        "size": 10
                      },
                      "mode": "lines+markers",
                      "textposition": "top center",
                      "type": "scatter",
                      "x": [
                        4,
                        3,
                        3,
                        4
                      ],
                      "y": [
                        2,
                        5,
                        3,
                        2
                      ]
                    },
                    {
                      "line": {
                        "color": "black"
                      },
                      "marker": {
                        "color": [
                          "red",
                          "green",
                          "blue",
                          "red"
                        ],
                        "size": 10
                      },
                      "mode": "lines+markers",
                      "textposition": "top center",
                      "type": "scatter",
                      "x": [
                        1,
                        4,
                        3,
                        1
                      ],
                      "y": [
                        3,
                        2,
                        3,
                        3
                      ]
                    }
                  ]
                },
                {
                  "data": [
                    {
                      "line": {
                        "color": "black"
                      },
                      "marker": {
                        "color": [
                          "red",
                          "blue",
                          "green",
                          "red"
                        ],
                        "size": 10
                      },
                      "mode": "lines+markers",
                      "textposition": "top center",
                      "type": "scatter",
                      "x": [
                        1,
                        1,
                        2,
                        1
                      ],
                      "y": [
                        3,
                        1,
                        1,
                        3
                      ]
                    },
                    {
                      "line": {
                        "color": "black"
                      },
                      "marker": {
                        "color": [
                          "red",
                          "green",
                          "blue",
                          "red"
                        ],
                        "size": 10
                      },
                      "mode": "lines+markers",
                      "textposition": "top center",
                      "type": "scatter",
                      "x": [
                        1,
                        2,
                        2,
                        1
                      ],
                      "y": [
                        3,
                        1,
                        2,
                        3
                      ]
                    },
                    {
                      "line": {
                        "color": "black"
                      },
                      "marker": {
                        "color": [
                          "red",
                          "blue",
                          "green",
                          "red"
                        ],
                        "size": 10
                      },
                      "mode": "lines+markers",
                      "textposition": "top center",
                      "type": "scatter",
                      "x": [
                        1,
                        2,
                        4,
                        1
                      ],
                      "y": [
                        3,
                        2,
                        2,
                        3
                      ]
                    },
                    {
                      "line": {
                        "color": "black"
                      },
                      "marker": {
                        "color": [
                          "blue",
                          "red",
                          "green",
                          "blue"
                        ],
                        "size": 10
                      },
                      "mode": "lines+markers",
                      "textposition": "top center",
                      "type": "scatter",
                      "x": [
                        4,
                        5,
                        5,
                        4
                      ],
                      "y": [
                        4,
                        4,
                        5,
                        4
                      ]
                    },
                    {
                      "line": {
                        "color": "black"
                      },
                      "marker": {
                        "color": [
                          "blue",
                          "green",
                          "red",
                          "blue"
                        ],
                        "size": 10
                      },
                      "mode": "lines+markers",
                      "textposition": "top center",
                      "type": "scatter",
                      "x": [
                        4,
                        5,
                        3,
                        4
                      ],
                      "y": [
                        4,
                        5,
                        5,
                        4
                      ]
                    },
                    {
                      "line": {
                        "color": "black"
                      },
                      "marker": {
                        "color": [
                          "green",
                          "blue",
                          "red",
                          "green"
                        ],
                        "size": 10
                      },
                      "mode": "lines+markers",
                      "textposition": "top center",
                      "type": "scatter",
                      "x": [
                        4,
                        4,
                        3,
                        4
                      ],
                      "y": [
                        2,
                        4,
                        5,
                        2
                      ]
                    },
                    {
                      "line": {
                        "color": "black"
                      },
                      "marker": {
                        "color": [
                          "green",
                          "red",
                          "blue",
                          "green"
                        ],
                        "size": 10
                      },
                      "mode": "lines+markers",
                      "textposition": "top center",
                      "type": "scatter",
                      "x": [
                        4,
                        3,
                        3,
                        4
                      ],
                      "y": [
                        2,
                        5,
                        3,
                        2
                      ]
                    },
                    {
                      "line": {
                        "color": "black"
                      },
                      "marker": {
                        "color": [
                          "red",
                          "green",
                          "blue",
                          "red"
                        ],
                        "size": 10
                      },
                      "mode": "lines+markers",
                      "textposition": "top center",
                      "type": "scatter",
                      "x": [
                        1,
                        4,
                        3,
                        1
                      ],
                      "y": [
                        3,
                        2,
                        3,
                        3
                      ]
                    }
                  ]
                },
                {
                  "data": [
                    {
                      "line": {
                        "color": "black"
                      },
                      "marker": {
                        "color": [
                          "red",
                          "blue",
                          "green",
                          "red"
                        ],
                        "size": 10
                      },
                      "mode": "lines+markers",
                      "textposition": "top center",
                      "type": "scatter",
                      "x": [
                        1,
                        1,
                        2,
                        1
                      ],
                      "y": [
                        3,
                        1,
                        1,
                        3
                      ]
                    },
                    {
                      "line": {
                        "color": "black"
                      },
                      "marker": {
                        "color": [
                          "red",
                          "green",
                          "blue",
                          "red"
                        ],
                        "size": 10
                      },
                      "mode": "lines+markers",
                      "textposition": "top center",
                      "type": "scatter",
                      "x": [
                        1,
                        2,
                        2,
                        1
                      ],
                      "y": [
                        3,
                        1,
                        2,
                        3
                      ]
                    },
                    {
                      "line": {
                        "color": "black"
                      },
                      "marker": {
                        "color": [
                          "red",
                          "blue",
                          "green",
                          "red"
                        ],
                        "size": 10
                      },
                      "mode": "lines+markers",
                      "textposition": "top center",
                      "type": "scatter",
                      "x": [
                        1,
                        2,
                        4,
                        1
                      ],
                      "y": [
                        3,
                        2,
                        2,
                        3
                      ]
                    },
                    {
                      "line": {
                        "color": "black"
                      },
                      "marker": {
                        "color": [
                          "blue",
                          "red",
                          "green",
                          "blue"
                        ],
                        "size": 10
                      },
                      "mode": "lines+markers",
                      "textposition": "top center",
                      "type": "scatter",
                      "x": [
                        4,
                        5,
                        5,
                        4
                      ],
                      "y": [
                        4,
                        4,
                        5,
                        4
                      ]
                    },
                    {
                      "line": {
                        "color": "black"
                      },
                      "marker": {
                        "color": [
                          "blue",
                          "green",
                          "red",
                          "blue"
                        ],
                        "size": 10
                      },
                      "mode": "lines+markers",
                      "textposition": "top center",
                      "type": "scatter",
                      "x": [
                        4,
                        5,
                        3,
                        4
                      ],
                      "y": [
                        4,
                        5,
                        5,
                        4
                      ]
                    },
                    {
                      "line": {
                        "color": "black"
                      },
                      "marker": {
                        "color": [
                          "green",
                          "blue",
                          "red",
                          "green"
                        ],
                        "size": 10
                      },
                      "mode": "lines+markers",
                      "textposition": "top center",
                      "type": "scatter",
                      "x": [
                        4,
                        4,
                        3,
                        4
                      ],
                      "y": [
                        2,
                        4,
                        5,
                        2
                      ]
                    },
                    {
                      "line": {
                        "color": "black"
                      },
                      "marker": {
                        "color": [
                          "green",
                          "red",
                          "blue",
                          "green"
                        ],
                        "size": 10
                      },
                      "mode": "lines+markers",
                      "textposition": "top center",
                      "type": "scatter",
                      "x": [
                        4,
                        3,
                        3,
                        4
                      ],
                      "y": [
                        2,
                        5,
                        3,
                        2
                      ]
                    },
                    {
                      "line": {
                        "color": "black"
                      },
                      "marker": {
                        "color": [
                          "red",
                          "green",
                          "blue",
                          "red"
                        ],
                        "size": 10
                      },
                      "mode": "lines+markers",
                      "textposition": "top center",
                      "type": "scatter",
                      "x": [
                        1,
                        4,
                        3,
                        1
                      ],
                      "y": [
                        3,
                        2,
                        3,
                        3
                      ]
                    }
                  ]
                },
                {
                  "data": [
                    {
                      "line": {
                        "color": "black"
                      },
                      "marker": {
                        "color": [
                          "red",
                          "blue",
                          "green",
                          "red"
                        ],
                        "size": 10
                      },
                      "mode": "lines+markers",
                      "textposition": "top center",
                      "type": "scatter",
                      "x": [
                        1,
                        1,
                        2,
                        1
                      ],
                      "y": [
                        3,
                        1,
                        1,
                        3
                      ]
                    },
                    {
                      "line": {
                        "color": "black"
                      },
                      "marker": {
                        "color": [
                          "red",
                          "green",
                          "blue",
                          "red"
                        ],
                        "size": 10
                      },
                      "mode": "lines+markers",
                      "textposition": "top center",
                      "type": "scatter",
                      "x": [
                        1,
                        2,
                        2,
                        1
                      ],
                      "y": [
                        3,
                        1,
                        2,
                        3
                      ]
                    },
                    {
                      "line": {
                        "color": "black"
                      },
                      "marker": {
                        "color": [
                          "red",
                          "blue",
                          "green",
                          "red"
                        ],
                        "size": 10
                      },
                      "mode": "lines+markers",
                      "textposition": "top center",
                      "type": "scatter",
                      "x": [
                        1,
                        2,
                        4,
                        1
                      ],
                      "y": [
                        3,
                        2,
                        2,
                        3
                      ]
                    },
                    {
                      "line": {
                        "color": "black"
                      },
                      "marker": {
                        "color": [
                          "blue",
                          "red",
                          "green",
                          "blue"
                        ],
                        "size": 10
                      },
                      "mode": "lines+markers",
                      "textposition": "top center",
                      "type": "scatter",
                      "x": [
                        4,
                        5,
                        5,
                        4
                      ],
                      "y": [
                        4,
                        4,
                        5,
                        4
                      ]
                    },
                    {
                      "line": {
                        "color": "black"
                      },
                      "marker": {
                        "color": [
                          "blue",
                          "green",
                          "red",
                          "blue"
                        ],
                        "size": 10
                      },
                      "mode": "lines+markers",
                      "textposition": "top center",
                      "type": "scatter",
                      "x": [
                        4,
                        5,
                        3,
                        4
                      ],
                      "y": [
                        4,
                        5,
                        5,
                        4
                      ]
                    },
                    {
                      "line": {
                        "color": "black"
                      },
                      "marker": {
                        "color": [
                          "green",
                          "blue",
                          "red",
                          "green"
                        ],
                        "size": 10
                      },
                      "mode": "lines+markers",
                      "textposition": "top center",
                      "type": "scatter",
                      "x": [
                        4,
                        4,
                        3,
                        4
                      ],
                      "y": [
                        2,
                        4,
                        5,
                        2
                      ]
                    },
                    {
                      "line": {
                        "color": "black"
                      },
                      "marker": {
                        "color": [
                          "green",
                          "red",
                          "blue",
                          "green"
                        ],
                        "size": 10
                      },
                      "mode": "lines+markers",
                      "textposition": "top center",
                      "type": "scatter",
                      "x": [
                        4,
                        3,
                        3,
                        4
                      ],
                      "y": [
                        2,
                        5,
                        3,
                        2
                      ]
                    },
                    {
                      "line": {
                        "color": "black"
                      },
                      "marker": {
                        "color": [
                          "red",
                          "green",
                          "blue",
                          "red"
                        ],
                        "size": 10
                      },
                      "mode": "lines+markers",
                      "textposition": "top center",
                      "type": "scatter",
                      "x": [
                        1,
                        4,
                        3,
                        1
                      ],
                      "y": [
                        3,
                        2,
                        3,
                        3
                      ]
                    }
                  ]
                },
                {
                  "data": [
                    {
                      "line": {
                        "color": "black"
                      },
                      "marker": {
                        "color": [
                          "red",
                          "blue",
                          "green",
                          "red"
                        ],
                        "size": 10
                      },
                      "mode": "lines+markers",
                      "textposition": "top center",
                      "type": "scatter",
                      "x": [
                        1,
                        1,
                        2,
                        1
                      ],
                      "y": [
                        3,
                        1,
                        1,
                        3
                      ]
                    },
                    {
                      "line": {
                        "color": "black"
                      },
                      "marker": {
                        "color": [
                          "red",
                          "green",
                          "blue",
                          "red"
                        ],
                        "size": 10
                      },
                      "mode": "lines+markers",
                      "textposition": "top center",
                      "type": "scatter",
                      "x": [
                        1,
                        2,
                        2,
                        1
                      ],
                      "y": [
                        3,
                        1,
                        2,
                        3
                      ]
                    },
                    {
                      "line": {
                        "color": "black"
                      },
                      "marker": {
                        "color": [
                          "red",
                          "blue",
                          "green",
                          "red"
                        ],
                        "size": 10
                      },
                      "mode": "lines+markers",
                      "textposition": "top center",
                      "type": "scatter",
                      "x": [
                        1,
                        2,
                        4,
                        1
                      ],
                      "y": [
                        3,
                        2,
                        2,
                        3
                      ]
                    },
                    {
                      "line": {
                        "color": "black"
                      },
                      "marker": {
                        "color": [
                          "blue",
                          "red",
                          "green",
                          "blue"
                        ],
                        "size": 10
                      },
                      "mode": "lines+markers",
                      "textposition": "top center",
                      "type": "scatter",
                      "x": [
                        4,
                        5,
                        5,
                        4
                      ],
                      "y": [
                        4,
                        4,
                        5,
                        4
                      ]
                    },
                    {
                      "line": {
                        "color": "black"
                      },
                      "marker": {
                        "color": [
                          "blue",
                          "green",
                          "red",
                          "blue"
                        ],
                        "size": 10
                      },
                      "mode": "lines+markers",
                      "textposition": "top center",
                      "type": "scatter",
                      "x": [
                        4,
                        5,
                        3,
                        4
                      ],
                      "y": [
                        4,
                        5,
                        5,
                        4
                      ]
                    },
                    {
                      "line": {
                        "color": "black"
                      },
                      "marker": {
                        "color": [
                          "green",
                          "blue",
                          "red",
                          "green"
                        ],
                        "size": 10
                      },
                      "mode": "lines+markers",
                      "textposition": "top center",
                      "type": "scatter",
                      "x": [
                        4,
                        4,
                        3,
                        4
                      ],
                      "y": [
                        2,
                        4,
                        5,
                        2
                      ]
                    },
                    {
                      "line": {
                        "color": "black"
                      },
                      "marker": {
                        "color": [
                          "green",
                          "red",
                          "blue",
                          "green"
                        ],
                        "size": 10
                      },
                      "mode": "lines+markers",
                      "textposition": "top center",
                      "type": "scatter",
                      "x": [
                        4,
                        3,
                        3,
                        4
                      ],
                      "y": [
                        2,
                        5,
                        3,
                        2
                      ]
                    },
                    {
                      "line": {
                        "color": "black"
                      },
                      "marker": {
                        "color": [
                          "red",
                          "green",
                          "blue",
                          "red"
                        ],
                        "size": 10
                      },
                      "mode": "lines+markers",
                      "textposition": "top center",
                      "type": "scatter",
                      "x": [
                        1,
                        4,
                        3,
                        1
                      ],
                      "y": [
                        3,
                        2,
                        3,
                        3
                      ]
                    }
                  ]
                },
                {
                  "data": [
                    {
                      "line": {
                        "color": "black"
                      },
                      "marker": {
                        "color": [
                          "red",
                          "blue",
                          "green",
                          "red"
                        ],
                        "size": 10
                      },
                      "mode": "lines+markers",
                      "textposition": "top center",
                      "type": "scatter",
                      "x": [
                        1,
                        1,
                        2,
                        1
                      ],
                      "y": [
                        3,
                        1,
                        1,
                        3
                      ]
                    },
                    {
                      "line": {
                        "color": "black"
                      },
                      "marker": {
                        "color": [
                          "red",
                          "green",
                          "blue",
                          "red"
                        ],
                        "size": 10
                      },
                      "mode": "lines+markers",
                      "textposition": "top center",
                      "type": "scatter",
                      "x": [
                        1,
                        2,
                        2,
                        1
                      ],
                      "y": [
                        3,
                        1,
                        2,
                        3
                      ]
                    },
                    {
                      "line": {
                        "color": "black"
                      },
                      "marker": {
                        "color": [
                          "red",
                          "blue",
                          "green",
                          "red"
                        ],
                        "size": 10
                      },
                      "mode": "lines+markers",
                      "textposition": "top center",
                      "type": "scatter",
                      "x": [
                        1,
                        2,
                        4,
                        1
                      ],
                      "y": [
                        3,
                        2,
                        2,
                        3
                      ]
                    },
                    {
                      "line": {
                        "color": "black"
                      },
                      "marker": {
                        "color": [
                          "blue",
                          "red",
                          "green",
                          "blue"
                        ],
                        "size": 10
                      },
                      "mode": "lines+markers",
                      "textposition": "top center",
                      "type": "scatter",
                      "x": [
                        4,
                        5,
                        5,
                        4
                      ],
                      "y": [
                        4,
                        4,
                        5,
                        4
                      ]
                    },
                    {
                      "line": {
                        "color": "black"
                      },
                      "marker": {
                        "color": [
                          "blue",
                          "green",
                          "red",
                          "blue"
                        ],
                        "size": 10
                      },
                      "mode": "lines+markers",
                      "textposition": "top center",
                      "type": "scatter",
                      "x": [
                        4,
                        5,
                        3,
                        4
                      ],
                      "y": [
                        4,
                        5,
                        5,
                        4
                      ]
                    },
                    {
                      "line": {
                        "color": "black"
                      },
                      "marker": {
                        "color": [
                          "green",
                          "blue",
                          "red",
                          "green"
                        ],
                        "size": 10
                      },
                      "mode": "lines+markers",
                      "textposition": "top center",
                      "type": "scatter",
                      "x": [
                        4,
                        4,
                        3,
                        4
                      ],
                      "y": [
                        2,
                        4,
                        5,
                        2
                      ]
                    },
                    {
                      "line": {
                        "color": "black"
                      },
                      "marker": {
                        "color": [
                          "green",
                          "red",
                          "blue",
                          "green"
                        ],
                        "size": 10
                      },
                      "mode": "lines+markers",
                      "textposition": "top center",
                      "type": "scatter",
                      "x": [
                        4,
                        3,
                        3,
                        4
                      ],
                      "y": [
                        2,
                        5,
                        3,
                        2
                      ]
                    },
                    {
                      "line": {
                        "color": "black"
                      },
                      "marker": {
                        "color": [
                          "red",
                          "green",
                          "blue",
                          "red"
                        ],
                        "size": 10
                      },
                      "mode": "lines+markers",
                      "textposition": "top center",
                      "type": "scatter",
                      "x": [
                        1,
                        4,
                        3,
                        1
                      ],
                      "y": [
                        3,
                        2,
                        3,
                        3
                      ]
                    }
                  ]
                },
                {
                  "data": [
                    {
                      "line": {
                        "color": "black"
                      },
                      "marker": {
                        "color": [
                          "red",
                          "blue",
                          "green",
                          "red"
                        ],
                        "size": 10
                      },
                      "mode": "lines+markers",
                      "textposition": "top center",
                      "type": "scatter",
                      "x": [
                        1,
                        1,
                        2,
                        1
                      ],
                      "y": [
                        3,
                        1,
                        1,
                        3
                      ]
                    },
                    {
                      "line": {
                        "color": "black"
                      },
                      "marker": {
                        "color": [
                          "red",
                          "green",
                          "blue",
                          "red"
                        ],
                        "size": 10
                      },
                      "mode": "lines+markers",
                      "textposition": "top center",
                      "type": "scatter",
                      "x": [
                        1,
                        2,
                        2,
                        1
                      ],
                      "y": [
                        3,
                        1,
                        2,
                        3
                      ]
                    },
                    {
                      "line": {
                        "color": "black"
                      },
                      "marker": {
                        "color": [
                          "red",
                          "blue",
                          "green",
                          "red"
                        ],
                        "size": 10
                      },
                      "mode": "lines+markers",
                      "textposition": "top center",
                      "type": "scatter",
                      "x": [
                        1,
                        2,
                        4,
                        1
                      ],
                      "y": [
                        3,
                        2,
                        2,
                        3
                      ]
                    },
                    {
                      "line": {
                        "color": "black"
                      },
                      "marker": {
                        "color": [
                          "blue",
                          "red",
                          "green",
                          "blue"
                        ],
                        "size": 10
                      },
                      "mode": "lines+markers",
                      "textposition": "top center",
                      "type": "scatter",
                      "x": [
                        4,
                        5,
                        5,
                        4
                      ],
                      "y": [
                        4,
                        4,
                        5,
                        4
                      ]
                    },
                    {
                      "line": {
                        "color": "black"
                      },
                      "marker": {
                        "color": [
                          "blue",
                          "green",
                          "red",
                          "blue"
                        ],
                        "size": 10
                      },
                      "mode": "lines+markers",
                      "textposition": "top center",
                      "type": "scatter",
                      "x": [
                        4,
                        5,
                        3,
                        4
                      ],
                      "y": [
                        4,
                        5,
                        5,
                        4
                      ]
                    },
                    {
                      "line": {
                        "color": "black"
                      },
                      "marker": {
                        "color": [
                          "green",
                          "blue",
                          "red",
                          "green"
                        ],
                        "size": 10
                      },
                      "mode": "lines+markers",
                      "textposition": "top center",
                      "type": "scatter",
                      "x": [
                        4,
                        4,
                        3,
                        4
                      ],
                      "y": [
                        2,
                        4,
                        5,
                        2
                      ]
                    },
                    {
                      "line": {
                        "color": "black"
                      },
                      "marker": {
                        "color": [
                          "green",
                          "red",
                          "blue",
                          "green"
                        ],
                        "size": 10
                      },
                      "mode": "lines+markers",
                      "textposition": "top center",
                      "type": "scatter",
                      "x": [
                        4,
                        3,
                        3,
                        4
                      ],
                      "y": [
                        2,
                        5,
                        3,
                        2
                      ]
                    },
                    {
                      "line": {
                        "color": "black"
                      },
                      "marker": {
                        "color": [
                          "red",
                          "green",
                          "blue",
                          "red"
                        ],
                        "size": 10
                      },
                      "mode": "lines+markers",
                      "textposition": "top center",
                      "type": "scatter",
                      "x": [
                        1,
                        4,
                        3,
                        1
                      ],
                      "y": [
                        3,
                        2,
                        3,
                        3
                      ]
                    }
                  ]
                }
              ],
              "layout": {
                "plot_bgcolor": "rgba(0,0,0,0)",
                "template": {
                  "data": {
                    "bar": [
                      {
                        "error_x": {
                          "color": "#2a3f5f"
                        },
                        "error_y": {
                          "color": "#2a3f5f"
                        },
                        "marker": {
                          "line": {
                            "color": "#E5ECF6",
                            "width": 0.5
                          },
                          "pattern": {
                            "fillmode": "overlay",
                            "size": 10,
                            "solidity": 0.2
                          }
                        },
                        "type": "bar"
                      }
                    ],
                    "barpolar": [
                      {
                        "marker": {
                          "line": {
                            "color": "#E5ECF6",
                            "width": 0.5
                          },
                          "pattern": {
                            "fillmode": "overlay",
                            "size": 10,
                            "solidity": 0.2
                          }
                        },
                        "type": "barpolar"
                      }
                    ],
                    "carpet": [
                      {
                        "aaxis": {
                          "endlinecolor": "#2a3f5f",
                          "gridcolor": "white",
                          "linecolor": "white",
                          "minorgridcolor": "white",
                          "startlinecolor": "#2a3f5f"
                        },
                        "baxis": {
                          "endlinecolor": "#2a3f5f",
                          "gridcolor": "white",
                          "linecolor": "white",
                          "minorgridcolor": "white",
                          "startlinecolor": "#2a3f5f"
                        },
                        "type": "carpet"
                      }
                    ],
                    "choropleth": [
                      {
                        "colorbar": {
                          "outlinewidth": 0,
                          "ticks": ""
                        },
                        "type": "choropleth"
                      }
                    ],
                    "contour": [
                      {
                        "colorbar": {
                          "outlinewidth": 0,
                          "ticks": ""
                        },
                        "colorscale": [
                          [
                            0,
                            "#0d0887"
                          ],
                          [
                            0.1111111111111111,
                            "#46039f"
                          ],
                          [
                            0.2222222222222222,
                            "#7201a8"
                          ],
                          [
                            0.3333333333333333,
                            "#9c179e"
                          ],
                          [
                            0.4444444444444444,
                            "#bd3786"
                          ],
                          [
                            0.5555555555555556,
                            "#d8576b"
                          ],
                          [
                            0.6666666666666666,
                            "#ed7953"
                          ],
                          [
                            0.7777777777777778,
                            "#fb9f3a"
                          ],
                          [
                            0.8888888888888888,
                            "#fdca26"
                          ],
                          [
                            1,
                            "#f0f921"
                          ]
                        ],
                        "type": "contour"
                      }
                    ],
                    "contourcarpet": [
                      {
                        "colorbar": {
                          "outlinewidth": 0,
                          "ticks": ""
                        },
                        "type": "contourcarpet"
                      }
                    ],
                    "heatmap": [
                      {
                        "colorbar": {
                          "outlinewidth": 0,
                          "ticks": ""
                        },
                        "colorscale": [
                          [
                            0,
                            "#0d0887"
                          ],
                          [
                            0.1111111111111111,
                            "#46039f"
                          ],
                          [
                            0.2222222222222222,
                            "#7201a8"
                          ],
                          [
                            0.3333333333333333,
                            "#9c179e"
                          ],
                          [
                            0.4444444444444444,
                            "#bd3786"
                          ],
                          [
                            0.5555555555555556,
                            "#d8576b"
                          ],
                          [
                            0.6666666666666666,
                            "#ed7953"
                          ],
                          [
                            0.7777777777777778,
                            "#fb9f3a"
                          ],
                          [
                            0.8888888888888888,
                            "#fdca26"
                          ],
                          [
                            1,
                            "#f0f921"
                          ]
                        ],
                        "type": "heatmap"
                      }
                    ],
                    "heatmapgl": [
                      {
                        "colorbar": {
                          "outlinewidth": 0,
                          "ticks": ""
                        },
                        "colorscale": [
                          [
                            0,
                            "#0d0887"
                          ],
                          [
                            0.1111111111111111,
                            "#46039f"
                          ],
                          [
                            0.2222222222222222,
                            "#7201a8"
                          ],
                          [
                            0.3333333333333333,
                            "#9c179e"
                          ],
                          [
                            0.4444444444444444,
                            "#bd3786"
                          ],
                          [
                            0.5555555555555556,
                            "#d8576b"
                          ],
                          [
                            0.6666666666666666,
                            "#ed7953"
                          ],
                          [
                            0.7777777777777778,
                            "#fb9f3a"
                          ],
                          [
                            0.8888888888888888,
                            "#fdca26"
                          ],
                          [
                            1,
                            "#f0f921"
                          ]
                        ],
                        "type": "heatmapgl"
                      }
                    ],
                    "histogram": [
                      {
                        "marker": {
                          "pattern": {
                            "fillmode": "overlay",
                            "size": 10,
                            "solidity": 0.2
                          }
                        },
                        "type": "histogram"
                      }
                    ],
                    "histogram2d": [
                      {
                        "colorbar": {
                          "outlinewidth": 0,
                          "ticks": ""
                        },
                        "colorscale": [
                          [
                            0,
                            "#0d0887"
                          ],
                          [
                            0.1111111111111111,
                            "#46039f"
                          ],
                          [
                            0.2222222222222222,
                            "#7201a8"
                          ],
                          [
                            0.3333333333333333,
                            "#9c179e"
                          ],
                          [
                            0.4444444444444444,
                            "#bd3786"
                          ],
                          [
                            0.5555555555555556,
                            "#d8576b"
                          ],
                          [
                            0.6666666666666666,
                            "#ed7953"
                          ],
                          [
                            0.7777777777777778,
                            "#fb9f3a"
                          ],
                          [
                            0.8888888888888888,
                            "#fdca26"
                          ],
                          [
                            1,
                            "#f0f921"
                          ]
                        ],
                        "type": "histogram2d"
                      }
                    ],
                    "histogram2dcontour": [
                      {
                        "colorbar": {
                          "outlinewidth": 0,
                          "ticks": ""
                        },
                        "colorscale": [
                          [
                            0,
                            "#0d0887"
                          ],
                          [
                            0.1111111111111111,
                            "#46039f"
                          ],
                          [
                            0.2222222222222222,
                            "#7201a8"
                          ],
                          [
                            0.3333333333333333,
                            "#9c179e"
                          ],
                          [
                            0.4444444444444444,
                            "#bd3786"
                          ],
                          [
                            0.5555555555555556,
                            "#d8576b"
                          ],
                          [
                            0.6666666666666666,
                            "#ed7953"
                          ],
                          [
                            0.7777777777777778,
                            "#fb9f3a"
                          ],
                          [
                            0.8888888888888888,
                            "#fdca26"
                          ],
                          [
                            1,
                            "#f0f921"
                          ]
                        ],
                        "type": "histogram2dcontour"
                      }
                    ],
                    "mesh3d": [
                      {
                        "colorbar": {
                          "outlinewidth": 0,
                          "ticks": ""
                        },
                        "type": "mesh3d"
                      }
                    ],
                    "parcoords": [
                      {
                        "line": {
                          "colorbar": {
                            "outlinewidth": 0,
                            "ticks": ""
                          }
                        },
                        "type": "parcoords"
                      }
                    ],
                    "pie": [
                      {
                        "automargin": true,
                        "type": "pie"
                      }
                    ],
                    "scatter": [
                      {
                        "fillpattern": {
                          "fillmode": "overlay",
                          "size": 10,
                          "solidity": 0.2
                        },
                        "type": "scatter"
                      }
                    ],
                    "scatter3d": [
                      {
                        "line": {
                          "colorbar": {
                            "outlinewidth": 0,
                            "ticks": ""
                          }
                        },
                        "marker": {
                          "colorbar": {
                            "outlinewidth": 0,
                            "ticks": ""
                          }
                        },
                        "type": "scatter3d"
                      }
                    ],
                    "scattercarpet": [
                      {
                        "marker": {
                          "colorbar": {
                            "outlinewidth": 0,
                            "ticks": ""
                          }
                        },
                        "type": "scattercarpet"
                      }
                    ],
                    "scattergeo": [
                      {
                        "marker": {
                          "colorbar": {
                            "outlinewidth": 0,
                            "ticks": ""
                          }
                        },
                        "type": "scattergeo"
                      }
                    ],
                    "scattergl": [
                      {
                        "marker": {
                          "colorbar": {
                            "outlinewidth": 0,
                            "ticks": ""
                          }
                        },
                        "type": "scattergl"
                      }
                    ],
                    "scattermapbox": [
                      {
                        "marker": {
                          "colorbar": {
                            "outlinewidth": 0,
                            "ticks": ""
                          }
                        },
                        "type": "scattermapbox"
                      }
                    ],
                    "scatterpolar": [
                      {
                        "marker": {
                          "colorbar": {
                            "outlinewidth": 0,
                            "ticks": ""
                          }
                        },
                        "type": "scatterpolar"
                      }
                    ],
                    "scatterpolargl": [
                      {
                        "marker": {
                          "colorbar": {
                            "outlinewidth": 0,
                            "ticks": ""
                          }
                        },
                        "type": "scatterpolargl"
                      }
                    ],
                    "scatterternary": [
                      {
                        "marker": {
                          "colorbar": {
                            "outlinewidth": 0,
                            "ticks": ""
                          }
                        },
                        "type": "scatterternary"
                      }
                    ],
                    "surface": [
                      {
                        "colorbar": {
                          "outlinewidth": 0,
                          "ticks": ""
                        },
                        "colorscale": [
                          [
                            0,
                            "#0d0887"
                          ],
                          [
                            0.1111111111111111,
                            "#46039f"
                          ],
                          [
                            0.2222222222222222,
                            "#7201a8"
                          ],
                          [
                            0.3333333333333333,
                            "#9c179e"
                          ],
                          [
                            0.4444444444444444,
                            "#bd3786"
                          ],
                          [
                            0.5555555555555556,
                            "#d8576b"
                          ],
                          [
                            0.6666666666666666,
                            "#ed7953"
                          ],
                          [
                            0.7777777777777778,
                            "#fb9f3a"
                          ],
                          [
                            0.8888888888888888,
                            "#fdca26"
                          ],
                          [
                            1,
                            "#f0f921"
                          ]
                        ],
                        "type": "surface"
                      }
                    ],
                    "table": [
                      {
                        "cells": {
                          "fill": {
                            "color": "#EBF0F8"
                          },
                          "line": {
                            "color": "white"
                          }
                        },
                        "header": {
                          "fill": {
                            "color": "#C8D4E3"
                          },
                          "line": {
                            "color": "white"
                          }
                        },
                        "type": "table"
                      }
                    ]
                  },
                  "layout": {
                    "annotationdefaults": {
                      "arrowcolor": "#2a3f5f",
                      "arrowhead": 0,
                      "arrowwidth": 1
                    },
                    "autotypenumbers": "strict",
                    "coloraxis": {
                      "colorbar": {
                        "outlinewidth": 0,
                        "ticks": ""
                      }
                    },
                    "colorscale": {
                      "diverging": [
                        [
                          0,
                          "#8e0152"
                        ],
                        [
                          0.1,
                          "#c51b7d"
                        ],
                        [
                          0.2,
                          "#de77ae"
                        ],
                        [
                          0.3,
                          "#f1b6da"
                        ],
                        [
                          0.4,
                          "#fde0ef"
                        ],
                        [
                          0.5,
                          "#f7f7f7"
                        ],
                        [
                          0.6,
                          "#e6f5d0"
                        ],
                        [
                          0.7,
                          "#b8e186"
                        ],
                        [
                          0.8,
                          "#7fbc41"
                        ],
                        [
                          0.9,
                          "#4d9221"
                        ],
                        [
                          1,
                          "#276419"
                        ]
                      ],
                      "sequential": [
                        [
                          0,
                          "#0d0887"
                        ],
                        [
                          0.1111111111111111,
                          "#46039f"
                        ],
                        [
                          0.2222222222222222,
                          "#7201a8"
                        ],
                        [
                          0.3333333333333333,
                          "#9c179e"
                        ],
                        [
                          0.4444444444444444,
                          "#bd3786"
                        ],
                        [
                          0.5555555555555556,
                          "#d8576b"
                        ],
                        [
                          0.6666666666666666,
                          "#ed7953"
                        ],
                        [
                          0.7777777777777778,
                          "#fb9f3a"
                        ],
                        [
                          0.8888888888888888,
                          "#fdca26"
                        ],
                        [
                          1,
                          "#f0f921"
                        ]
                      ],
                      "sequentialminus": [
                        [
                          0,
                          "#0d0887"
                        ],
                        [
                          0.1111111111111111,
                          "#46039f"
                        ],
                        [
                          0.2222222222222222,
                          "#7201a8"
                        ],
                        [
                          0.3333333333333333,
                          "#9c179e"
                        ],
                        [
                          0.4444444444444444,
                          "#bd3786"
                        ],
                        [
                          0.5555555555555556,
                          "#d8576b"
                        ],
                        [
                          0.6666666666666666,
                          "#ed7953"
                        ],
                        [
                          0.7777777777777778,
                          "#fb9f3a"
                        ],
                        [
                          0.8888888888888888,
                          "#fdca26"
                        ],
                        [
                          1,
                          "#f0f921"
                        ]
                      ]
                    },
                    "colorway": [
                      "#636efa",
                      "#EF553B",
                      "#00cc96",
                      "#ab63fa",
                      "#FFA15A",
                      "#19d3f3",
                      "#FF6692",
                      "#B6E880",
                      "#FF97FF",
                      "#FECB52"
                    ],
                    "font": {
                      "color": "#2a3f5f"
                    },
                    "geo": {
                      "bgcolor": "white",
                      "lakecolor": "white",
                      "landcolor": "#E5ECF6",
                      "showlakes": true,
                      "showland": true,
                      "subunitcolor": "white"
                    },
                    "hoverlabel": {
                      "align": "left"
                    },
                    "hovermode": "closest",
                    "mapbox": {
                      "style": "light"
                    },
                    "paper_bgcolor": "white",
                    "plot_bgcolor": "#E5ECF6",
                    "polar": {
                      "angularaxis": {
                        "gridcolor": "white",
                        "linecolor": "white",
                        "ticks": ""
                      },
                      "bgcolor": "#E5ECF6",
                      "radialaxis": {
                        "gridcolor": "white",
                        "linecolor": "white",
                        "ticks": ""
                      }
                    },
                    "scene": {
                      "xaxis": {
                        "backgroundcolor": "#E5ECF6",
                        "gridcolor": "white",
                        "gridwidth": 2,
                        "linecolor": "white",
                        "showbackground": true,
                        "ticks": "",
                        "zerolinecolor": "white"
                      },
                      "yaxis": {
                        "backgroundcolor": "#E5ECF6",
                        "gridcolor": "white",
                        "gridwidth": 2,
                        "linecolor": "white",
                        "showbackground": true,
                        "ticks": "",
                        "zerolinecolor": "white"
                      },
                      "zaxis": {
                        "backgroundcolor": "#E5ECF6",
                        "gridcolor": "white",
                        "gridwidth": 2,
                        "linecolor": "white",
                        "showbackground": true,
                        "ticks": "",
                        "zerolinecolor": "white"
                      }
                    },
                    "shapedefaults": {
                      "line": {
                        "color": "#2a3f5f"
                      }
                    },
                    "ternary": {
                      "aaxis": {
                        "gridcolor": "white",
                        "linecolor": "white",
                        "ticks": ""
                      },
                      "baxis": {
                        "gridcolor": "white",
                        "linecolor": "white",
                        "ticks": ""
                      },
                      "bgcolor": "#E5ECF6",
                      "caxis": {
                        "gridcolor": "white",
                        "linecolor": "white",
                        "ticks": ""
                      }
                    },
                    "title": {
                      "x": 0.05
                    },
                    "xaxis": {
                      "automargin": true,
                      "gridcolor": "white",
                      "linecolor": "white",
                      "ticks": "",
                      "title": {
                        "standoff": 15
                      },
                      "zerolinecolor": "white",
                      "zerolinewidth": 2
                    },
                    "yaxis": {
                      "automargin": true,
                      "gridcolor": "white",
                      "linecolor": "white",
                      "ticks": "",
                      "title": {
                        "standoff": 15
                      },
                      "zerolinecolor": "white",
                      "zerolinewidth": 2
                    }
                  }
                },
                "title": {
                  "text": "Animação Coloração de Grafo Triangulado"
                },
                "updatemenus": [
                  {
                    "buttons": [
                      {
                        "args": [
                          null,
                          {
                            "frame": {
                              "duration": 1000,
                              "redraw": true
                            },
                            "fromcurrent": true,
                            "transition": {
                              "duration": 500
                            }
                          }
                        ],
                        "label": "Play",
                        "method": "animate"
                      },
                      {
                        "args": [
                          null,
                          {
                            "frame": {
                              "duration": 0,
                              "redraw": false
                            },
                            "mode": "immediate",
                            "transition": {
                              "duration": 0
                            }
                          }
                        ],
                        "label": "Pause",
                        "method": "animate"
                      }
                    ],
                    "type": "buttons"
                  }
                ],
                "xaxis": {
                  "autorange": false,
                  "range": [
                    0.75,
                    5.25
                  ]
                },
                "yaxis": {
                  "autorange": false,
                  "range": [
                    0.75,
                    5.25
                  ]
                }
              }
            }
          },
          "metadata": {},
          "output_type": "display_data"
        }
      ],
      "source": [
        "def colorir_vertices_poligono(grafo, triangulo_atual, triangulo_visitados=None, triangulos_coloridos=None):\n",
        "    if triangulo_visitados is None:\n",
        "        triangulo_visitados = set()\n",
        "    triangulo_visitados.add(triangulo_atual)\n",
        "\n",
        "    # Cria frame para animação\n",
        "    frames.append(criar_frame(triangulos_coloridos))\n",
        "    time.sleep(1)  # Aguarda 1 segundo para visualização\n",
        "\n",
        "    colorir_vertices_triangulo(triangulos_coloridos[triangulo_atual])\n",
        "    for triangulo_adjacente in grafo[triangulo_atual]:\n",
        "        if triangulo_adjacente not in triangulo_visitados:\n",
        "            atualizar_cores_vertices_triangulos_adjacentes(triangulos_coloridos, triangulo_atual, triangulo_adjacente)\n",
        "            colorir_vertices_poligono(grafo, triangulo_adjacente, triangulo_visitados, triangulos_coloridos)\n",
        "            frames.append(criar_frame(triangulos_coloridos))\n",
        "            time.sleep(1)  # Aguarda 1 segundo para visualização\n",
        "\n",
        "\n",
        "# Função para criar um frame da animação\n",
        "def criar_frame(triangulos_coloridos):\n",
        "    data = []\n",
        "    for vertices in triangulos_coloridos:  # Itera diretamente sobre os valores (vértices)\n",
        "        x = [vertice[0] for vertice in vertices] + [vertices[0][0]]\n",
        "        y = [vertice[1] for vertice in vertices] + [vertices[0][1]]\n",
        "        cores = [vertice[2] for vertice in vertices] + [vertices[0][2]]\n",
        "        data.append(go.Scatter(x=x, y=y, mode='lines+markers',\n",
        "                                line=dict(color='black'), marker=dict(color=cores, size=10),\n",
        "                                textposition='top center'))\n",
        "    return go.Frame(data=data)\n",
        "\n",
        "# Inicializa lista de frames para a animação\n",
        "frames = []\n",
        "\n",
        "# Chama a função principal para colorir o grafo e gerar os frames\n",
        "colorir_vertices_poligono(grafo_dual, 0, triangulos_coloridos=triangulos_com_cores)\n",
        "\n",
        "valores_x = [v[0] for v in poligono_original]\n",
        "valores_y = [v[1] for v in poligono_original]\n",
        "min_x, max_x = min(valores_x), max(valores_x)\n",
        "min_y, max_y = min(valores_y), max(valores_y)\n",
        "\n",
        "# Cria a figura do Plotly com os frames da animação\n",
        "fig = go.Figure(\n",
        "    data=frames[0].data,\n",
        "    layout=go.Layout(\n",
        "        xaxis=dict(range=[min_x-0.25, max_x+0.25], autorange=False),  # Ajuste os limites do eixo x conforme necessário\n",
        "        yaxis=dict(range=[min_y - 0.25, max_y + 0.25], autorange=False),  # Ajuste os limites do eixo y conforme necessário\n",
        "        title=\"Animação Coloração de Grafo Triangulado\",\n",
        "        plot_bgcolor='rgba(0,0,0,0)',\n",
        "        updatemenus=[dict(\n",
        "            type=\"buttons\",\n",
        "            buttons=[\n",
        "                dict(label=\"Play\",\n",
        "                    method=\"animate\",\n",
        "                    args=[None, {\"frame\": {\"duration\": 1000, \"redraw\": True},\n",
        "                                    \"fromcurrent\": True, \"transition\": {\"duration\": 500}}]),\n",
        "                dict(label=\"Pause\",\n",
        "                    method=\"animate\",\n",
        "                    args=[None, {\"frame\": {\"duration\": 0, \"redraw\": False},\n",
        "                                    \"mode\": \"immediate\",\n",
        "                                    \"transition\": {\"duration\": 0}}])\n",
        "            ])]\n",
        "    ),\n",
        "    frames=frames\n",
        ")\n",
        "\n",
        "fig.show()"
      ]
    }
  ],
  "metadata": {
    "colab": {
      "collapsed_sections": [
        "nj29OwKgE5-v"
      ],
      "provenance": []
    },
    "kernelspec": {
      "display_name": "Python 3.10.12 64-bit",
      "language": "python",
      "name": "python3"
    },
    "language_info": {
      "codemirror_mode": {
        "name": "ipython",
        "version": 3
      },
      "file_extension": ".py",
      "mimetype": "text/x-python",
      "name": "python",
      "nbconvert_exporter": "python",
      "pygments_lexer": "ipython3",
      "version": "3.10.12"
    },
    "vscode": {
      "interpreter": {
        "hash": "916dbcbb3f70747c44a77c7bcd40155683ae19c65e1c03b4aa3499c5328201f1"
      }
    },
    "widgets": {
      "application/vnd.jupyter.widget-state+json": {
        "018209d270bb4ac5b4208aa5c5c32434": {
          "model_module": "@jupyter-widgets/controls",
          "model_module_version": "1.5.0",
          "model_name": "SliderStyleModel",
          "state": {
            "_model_module": "@jupyter-widgets/controls",
            "_model_module_version": "1.5.0",
            "_model_name": "SliderStyleModel",
            "_view_count": null,
            "_view_module": "@jupyter-widgets/base",
            "_view_module_version": "1.2.0",
            "_view_name": "StyleView",
            "description_width": "",
            "handle_color": null
          }
        },
        "1d8fa95479504fee8954085c88b471ac": {
          "model_module": "@jupyter-widgets/base",
          "model_module_version": "1.2.0",
          "model_name": "LayoutModel",
          "state": {
            "_model_module": "@jupyter-widgets/base",
            "_model_module_version": "1.2.0",
            "_model_name": "LayoutModel",
            "_view_count": null,
            "_view_module": "@jupyter-widgets/base",
            "_view_module_version": "1.2.0",
            "_view_name": "LayoutView",
            "align_content": null,
            "align_items": null,
            "align_self": null,
            "border": null,
            "bottom": null,
            "display": null,
            "flex": null,
            "flex_flow": null,
            "grid_area": null,
            "grid_auto_columns": null,
            "grid_auto_flow": null,
            "grid_auto_rows": null,
            "grid_column": null,
            "grid_gap": null,
            "grid_row": null,
            "grid_template_areas": null,
            "grid_template_columns": null,
            "grid_template_rows": null,
            "height": null,
            "justify_content": null,
            "justify_items": null,
            "left": null,
            "margin": null,
            "max_height": null,
            "max_width": null,
            "min_height": null,
            "min_width": null,
            "object_fit": null,
            "object_position": null,
            "order": null,
            "overflow": null,
            "overflow_x": null,
            "overflow_y": null,
            "padding": null,
            "right": null,
            "top": null,
            "visibility": null,
            "width": null
          }
        },
        "1da3415c61064dc1b1366b665f08fe56": {
          "model_module": "@jupyter-widgets/controls",
          "model_module_version": "1.5.0",
          "model_name": "ButtonModel",
          "state": {
            "_dom_classes": [],
            "_model_module": "@jupyter-widgets/controls",
            "_model_module_version": "1.5.0",
            "_model_name": "ButtonModel",
            "_view_count": null,
            "_view_module": "@jupyter-widgets/controls",
            "_view_module_version": "1.5.0",
            "_view_name": "ButtonView",
            "button_style": "",
            "description": "Play GIF",
            "disabled": false,
            "icon": "",
            "layout": "IPY_MODEL_9e8205a9fc134c2eb731aea5161f1bb0",
            "style": "IPY_MODEL_9510682249ed4076bd69d67199b858aa",
            "tooltip": ""
          }
        },
        "235c0e30f246454e8f310898fe4825fd": {
          "model_module": "@jupyter-widgets/output",
          "model_module_version": "1.0.0",
          "model_name": "OutputModel",
          "state": {
            "_dom_classes": [],
            "_model_module": "@jupyter-widgets/output",
            "_model_module_version": "1.0.0",
            "_model_name": "OutputModel",
            "_view_count": null,
            "_view_module": "@jupyter-widgets/output",
            "_view_module_version": "1.0.0",
            "_view_name": "OutputView",
            "layout": "IPY_MODEL_1d8fa95479504fee8954085c88b471ac",
            "msg_id": "",
            "outputs": [
              {
                "data": {
                  "image/png": "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\n",
                  "text/plain": "<IPython.core.display.Image object>"
                },
                "metadata": {},
                "output_type": "display_data"
              }
            ]
          }
        },
        "31940467b1d5485ca734657f74756ad2": {
          "model_module": "@jupyter-widgets/controls",
          "model_module_version": "1.5.0",
          "model_name": "IntSliderModel",
          "state": {
            "_dom_classes": [],
            "_model_module": "@jupyter-widgets/controls",
            "_model_module_version": "1.5.0",
            "_model_name": "IntSliderModel",
            "_view_count": null,
            "_view_module": "@jupyter-widgets/controls",
            "_view_module_version": "1.5.0",
            "_view_name": "IntSliderView",
            "continuous_update": true,
            "description": "Frame:",
            "description_tooltip": null,
            "disabled": false,
            "layout": "IPY_MODEL_d51aba213bf440a098faec6664e4751b",
            "max": 15,
            "min": 0,
            "orientation": "horizontal",
            "readout": true,
            "readout_format": "d",
            "step": 1,
            "style": "IPY_MODEL_018209d270bb4ac5b4208aa5c5c32434",
            "value": 0
          }
        },
        "9510682249ed4076bd69d67199b858aa": {
          "model_module": "@jupyter-widgets/controls",
          "model_module_version": "1.5.0",
          "model_name": "ButtonStyleModel",
          "state": {
            "_model_module": "@jupyter-widgets/controls",
            "_model_module_version": "1.5.0",
            "_model_name": "ButtonStyleModel",
            "_view_count": null,
            "_view_module": "@jupyter-widgets/base",
            "_view_module_version": "1.2.0",
            "_view_name": "StyleView",
            "button_color": null,
            "font_weight": ""
          }
        },
        "987bffc182ea43c4b76657a24161ebbd": {
          "model_module": "@jupyter-widgets/base",
          "model_module_version": "1.2.0",
          "model_name": "LayoutModel",
          "state": {
            "_model_module": "@jupyter-widgets/base",
            "_model_module_version": "1.2.0",
            "_model_name": "LayoutModel",
            "_view_count": null,
            "_view_module": "@jupyter-widgets/base",
            "_view_module_version": "1.2.0",
            "_view_name": "LayoutView",
            "align_content": null,
            "align_items": null,
            "align_self": null,
            "border": null,
            "bottom": null,
            "display": null,
            "flex": null,
            "flex_flow": null,
            "grid_area": null,
            "grid_auto_columns": null,
            "grid_auto_flow": null,
            "grid_auto_rows": null,
            "grid_column": null,
            "grid_gap": null,
            "grid_row": null,
            "grid_template_areas": null,
            "grid_template_columns": null,
            "grid_template_rows": null,
            "height": null,
            "justify_content": null,
            "justify_items": null,
            "left": null,
            "margin": null,
            "max_height": null,
            "max_width": null,
            "min_height": null,
            "min_width": null,
            "object_fit": null,
            "object_position": null,
            "order": null,
            "overflow": null,
            "overflow_x": null,
            "overflow_y": null,
            "padding": null,
            "right": null,
            "top": null,
            "visibility": null,
            "width": null
          }
        },
        "9e8205a9fc134c2eb731aea5161f1bb0": {
          "model_module": "@jupyter-widgets/base",
          "model_module_version": "1.2.0",
          "model_name": "LayoutModel",
          "state": {
            "_model_module": "@jupyter-widgets/base",
            "_model_module_version": "1.2.0",
            "_model_name": "LayoutModel",
            "_view_count": null,
            "_view_module": "@jupyter-widgets/base",
            "_view_module_version": "1.2.0",
            "_view_name": "LayoutView",
            "align_content": null,
            "align_items": null,
            "align_self": null,
            "border": null,
            "bottom": null,
            "display": null,
            "flex": null,
            "flex_flow": null,
            "grid_area": null,
            "grid_auto_columns": null,
            "grid_auto_flow": null,
            "grid_auto_rows": null,
            "grid_column": null,
            "grid_gap": null,
            "grid_row": null,
            "grid_template_areas": null,
            "grid_template_columns": null,
            "grid_template_rows": null,
            "height": null,
            "justify_content": null,
            "justify_items": null,
            "left": null,
            "margin": null,
            "max_height": null,
            "max_width": null,
            "min_height": null,
            "min_width": null,
            "object_fit": null,
            "object_position": null,
            "order": null,
            "overflow": null,
            "overflow_x": null,
            "overflow_y": null,
            "padding": null,
            "right": null,
            "top": null,
            "visibility": null,
            "width": null
          }
        },
        "a5c4b407a4d1465dbef88da3f4096e31": {
          "model_module": "@jupyter-widgets/controls",
          "model_module_version": "1.5.0",
          "model_name": "VBoxModel",
          "state": {
            "_dom_classes": [
              "widget-interact"
            ],
            "_model_module": "@jupyter-widgets/controls",
            "_model_module_version": "1.5.0",
            "_model_name": "VBoxModel",
            "_view_count": null,
            "_view_module": "@jupyter-widgets/controls",
            "_view_module_version": "1.5.0",
            "_view_name": "VBoxView",
            "box_style": "",
            "children": [
              "IPY_MODEL_31940467b1d5485ca734657f74756ad2",
              "IPY_MODEL_235c0e30f246454e8f310898fe4825fd"
            ],
            "layout": "IPY_MODEL_987bffc182ea43c4b76657a24161ebbd"
          }
        },
        "d51aba213bf440a098faec6664e4751b": {
          "model_module": "@jupyter-widgets/base",
          "model_module_version": "1.2.0",
          "model_name": "LayoutModel",
          "state": {
            "_model_module": "@jupyter-widgets/base",
            "_model_module_version": "1.2.0",
            "_model_name": "LayoutModel",
            "_view_count": null,
            "_view_module": "@jupyter-widgets/base",
            "_view_module_version": "1.2.0",
            "_view_name": "LayoutView",
            "align_content": null,
            "align_items": null,
            "align_self": null,
            "border": null,
            "bottom": null,
            "display": null,
            "flex": null,
            "flex_flow": null,
            "grid_area": null,
            "grid_auto_columns": null,
            "grid_auto_flow": null,
            "grid_auto_rows": null,
            "grid_column": null,
            "grid_gap": null,
            "grid_row": null,
            "grid_template_areas": null,
            "grid_template_columns": null,
            "grid_template_rows": null,
            "height": null,
            "justify_content": null,
            "justify_items": null,
            "left": null,
            "margin": null,
            "max_height": null,
            "max_width": null,
            "min_height": null,
            "min_width": null,
            "object_fit": null,
            "object_position": null,
            "order": null,
            "overflow": null,
            "overflow_x": null,
            "overflow_y": null,
            "padding": null,
            "right": null,
            "top": null,
            "visibility": null,
            "width": null
          }
        }
      }
    }
  },
  "nbformat": 4,
  "nbformat_minor": 0
}
